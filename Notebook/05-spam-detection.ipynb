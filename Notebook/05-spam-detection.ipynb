{
 "cells": [
  {
   "cell_type": "markdown",
   "metadata": {},
   "source": [
    "# Spam Detection using Naive Bayes "
   ]
  },
  {
   "cell_type": "markdown",
   "metadata": {},
   "source": [
    "## Collecting the Dataset "
   ]
  },
  {
   "cell_type": "code",
   "execution_count": 1,
   "metadata": {},
   "outputs": [],
   "source": [
    "spam = [\n",
    "    \"To use your credit, click the new WAP link in the next years txt message or click here\", \n",
    "    \"Thanks for your subscription to New Ringtone UK your new mobile will be charged £5/month Please confirm annoncement by replying\", \n",
    "    \"As a valued customer, I am pleased to advise you that following recent delivery waiting review of your Mob No. you are awarded with. Call us to review.\", \n",
    "    \"Please call our new customer service representative on\", \n",
    "    \"We are trying to contact you. Last weekends customer draw shows that you won a £1000 prize GUARANTEED. Calling years\", \n",
    "]"
   ]
  },
  {
   "cell_type": "code",
   "execution_count": 2,
   "metadata": {},
   "outputs": [],
   "source": [
    "# leave one sentence from spam for testing our model later \n",
    "spam_test = [\"Customer service annoncement. You have a New Years delivery waiting for you. click\"]"
   ]
  },
  {
   "cell_type": "code",
   "execution_count": 3,
   "metadata": {},
   "outputs": [],
   "source": [
    "non = [\n",
    "    \"I don't think he goes to usf, he lives around here though\", \n",
    "    \"New car and house for my parents. i have only new job in hand\", \n",
    "    \"Great escape. I fancy the bridge but needs her lager. See you tomorrow\", \n",
    "    \"Tired. I haven't slept well the past few nights.\",\n",
    "    \"Too late. I said i have the website. I didn't i have or dont have the slippers\", \n",
    "    \"I might come by tonight then if my class lets out early\", \n",
    "    \"Jos ask if u wana meet up?\", \n",
    "    \"That would be great. We'll be at the Guild. We can try meeting with the customer on Bristol road or somewhere\"\n",
    "    ]"
   ]
  },
  {
   "cell_type": "code",
   "execution_count": 4,
   "metadata": {},
   "outputs": [],
   "source": [
    "# another sentence from non for testing our model \n",
    "spam_test_2 = [\"That would be great. We'll be at the Guild. We can try meeting with the customer on Bristol road or somewhere\"]"
   ]
  },
  {
   "cell_type": "markdown",
   "metadata": {},
   "source": [
    "## Basic Pre-Processing"
   ]
  },
  {
   "cell_type": "code",
   "execution_count": 5,
   "metadata": {},
   "outputs": [
    {
     "name": "stdout",
     "output_type": "stream",
     "text": [
      "Collecting gensim\n",
      "  Downloading gensim-3.8.3.tar.gz (23.4 MB)\n",
      "\u001b[K     |████████████████████████████████| 23.4 MB 619 kB/s eta 0:00:01\n",
      "\u001b[?25hRequirement already satisfied: numpy>=1.11.3 in /Users/nam/miniforge3/lib/python3.9/site-packages (from gensim) (1.19.5)\n",
      "Requirement already satisfied: scipy>=0.18.1 in /Users/nam/miniforge3/lib/python3.9/site-packages (from gensim) (1.6.0)\n",
      "Requirement already satisfied: six>=1.5.0 in /Users/nam/miniforge3/lib/python3.9/site-packages (from gensim) (1.15.0)\n",
      "Collecting smart_open>=1.8.1\n",
      "  Downloading smart_open-4.1.2-py3-none-any.whl (111 kB)\n",
      "\u001b[K     |████████████████████████████████| 111 kB 1.2 MB/s eta 0:00:01\n",
      "\u001b[?25hBuilding wheels for collected packages: gensim\n",
      "  Building wheel for gensim (setup.py) ... \u001b[?25ldone\n",
      "\u001b[?25h  Created wheel for gensim: filename=gensim-3.8.3-cp39-cp39-macosx_11_0_arm64.whl size=24156377 sha256=e9e2e7c67e9b3ef94cf033d7f00ae93d120ca4da33e8cad32d3b0d4381a6494a\n",
      "  Stored in directory: /Users/nam/Library/Caches/pip/wheels/ca/5d/af/618594ec2f28608c1d6ee7d2b7e95a3e9b06551e3b80a491d6\n",
      "Successfully built gensim\n",
      "Installing collected packages: smart-open, gensim\n",
      "Successfully installed gensim-3.8.3 smart-open-4.1.2\n"
     ]
    }
   ],
   "source": [
    "!pip install gensim"
   ]
  },
  {
   "cell_type": "code",
   "execution_count": 6,
   "metadata": {},
   "outputs": [],
   "source": [
    "from gensim.parsing.preprocessing import remove_stopwords\n",
    "from gensim.parsing.porter import PorterStemmer\n",
    "from gensim.utils import tokenize"
   ]
  },
  {
   "cell_type": "code",
   "execution_count": 7,
   "metadata": {},
   "outputs": [
    {
     "name": "stdout",
     "output_type": "stream",
     "text": [
      "Thanks for your subscription to New Ringtone UK your new mobile will be charged £5/month Please confirm annoncement by replying\n",
      "Thanks subscription New Ringtone UK new mobile charged £5/month Please confirm annoncement replying\n",
      "thanks subscription new ringtone uk new mobile charged £5/month please confirm annoncement repli\n",
      "['thanks', 'subscription', 'new', 'ringtone', 'uk', 'new', 'mobile', 'charged', 'month', 'please', 'confirm', 'annoncement', 'repli']\n"
     ]
    }
   ],
   "source": [
    "#test_sentence = non[4]\n",
    "#test_sentence = non[5]\n",
    "test_sentence = spam[1]\n",
    "\n",
    "print(test_sentence)\n",
    "\n",
    "removed_stops = remove_stopwords(test_sentence)\n",
    "print(removed_stops)\n",
    "\n",
    "p = PorterStemmer()\n",
    "stemmed = p.stem(removed_stops)\n",
    "print(stemmed)\n",
    "\n",
    "tokens = tokenize(stemmed)\n",
    "print(list(tokens))"
   ]
  },
  {
   "cell_type": "markdown",
   "metadata": {},
   "source": [
    "## Create a dictionary of words "
   ]
  },
  {
   "cell_type": "code",
   "execution_count": 8,
   "metadata": {},
   "outputs": [],
   "source": [
    "def tokenize_sentence(sentence): \n",
    "    p = PorterStemmer()\n",
    "    removed_stops = remove_stopwords(sentence)\n",
    "    stemmed = p.stem(removed_stops)\n",
    "    tokens = tokenize(stemmed)\n",
    "    return list(tokens)"
   ]
  },
  {
   "cell_type": "code",
   "execution_count": 9,
   "metadata": {},
   "outputs": [
    {
     "name": "stdout",
     "output_type": "stream",
     "text": [
      "Tokenized spam:  [['to', 'use', 'credit', 'click', 'new', 'wap', 'link', 'years', 'txt', 'message', 'click'], ['thanks', 'subscription', 'new', 'ringtone', 'uk', 'new', 'mobile', 'charged', 'month', 'please', 'confirm', 'annoncement', 'repli'], ['as', 'valued', 'customer', 'i', 'pleased', 'advise', 'following', 'recent', 'delivery', 'waiting', 'review', 'mob', 'no', 'awarded', 'with', 'call', 'review'], ['please', 'new', 'customer', 'service', 'repres'], ['we', 'trying', 'contact', 'you', 'last', 'weekends', 'customer', 'draw', 'shows', 'won', 'prize', 'guaranteed', 'calling', 'year']]\n",
      "Tokenized non:   [['i', 'don', 't', 'think', 'goes', 'usf', 'l'], ['new', 'car', 'house', 'parents', 'new', 'job', 'hand'], ['great', 'escape', 'i', 'fancy', 'bridge', 'needs', 'lager', 'see', 'tomorrow'], ['tired', 'i', 'haven', 't', 'slept', 'past', 'nights'], ['too', 'late', 'i', 'said', 'website', 'i', 'didn', 't', 'dont', 'slipp'], ['i', 'come', 'tonight', 'class', 'lets', 'earli'], ['jos', 'ask', 'u', 'wana', 'meet', 'up'], ['that', 'great', 'we', 'll', 'guild', 'we', 'try', 'meeting', 'customer', 'bristol', 'road']]\n",
      "Dictionary:      {'prize', 'review', 'parents', 'wana', 'no', 'service', 'ringtone', 'recent', 'lets', 'mob', 'txt', 'job', 'dont', 'road', 'last', 'see', 'meet', 'website', 'as', 'l', 'repli', 'lager', 'house', 'link', 'needs', 'we', 'said', 'delivery', 'try', 'think', 'message', 'great', 'i', 'call', 'car', 'uk', 'you', 'bridge', 'contact', 'earli', 'ask', 'hand', 'don', 'following', 'mobile', 'charged', 'tired', 'goes', 'new', 'guild', 'repres', 'escape', 'u', 'class', 'awarded', 'too', 'use', 'draw', 'nights', 'tomorrow', 'fancy', 'past', 'waiting', 'thanks', 'pleased', 't', 'tonight', 'subscription', 'up', 'month', 'jos', 'bristol', 'years', 'usf', 'shows', 'that', 'calling', 'customer', 'annoncement', 'slept', 'wap', 'late', 'please', 'click', 'weekends', 'haven', 'valued', 'credit', 'll', 'come', 'year', 'advise', 'didn', 'slipp', 'to', 'confirm', 'won', 'meeting', 'guaranteed', 'trying', 'with'}\n"
     ]
    }
   ],
   "source": [
    "dictionary = set()     # will have unique values only \n",
    "spams_tokenized = [] \n",
    "nons_tokenized = [] \n",
    "\n",
    "\n",
    "for sentence in spam:      \n",
    "    sentence_tokens = tokenize_sentence(sentence)\n",
    "    spams_tokenized.append(sentence_tokens)\n",
    "    dictionary  = dictionary.union(sentence_tokens)   # add sentence words to the dictionary  \n",
    "    \n",
    "    \n",
    "\n",
    "for sentence in non:      \n",
    "    sentence_tokens = tokenize_sentence(sentence)\n",
    "    nons_tokenized.append(sentence_tokens)\n",
    "    dictionary  = dictionary.union(sentence_tokens)\n",
    "\n",
    "\n",
    "    \n",
    "print(\"Tokenized spam: \", spams_tokenized)\n",
    "print(\"Tokenized non:  \", nons_tokenized)\n",
    "print(\"Dictionary:     \", dictionary)"
   ]
  },
  {
   "cell_type": "markdown",
   "metadata": {},
   "source": [
    "## Basic Stats "
   ]
  },
  {
   "cell_type": "code",
   "execution_count": 10,
   "metadata": {},
   "outputs": [
    {
     "name": "stdout",
     "output_type": "stream",
     "text": [
      "Total Number of words:  101\n"
     ]
    }
   ],
   "source": [
    "# These things do not depend on an individual word so let's calculate them separately once \n",
    "\n",
    "total_word_count = len(dictionary)\n",
    "total_spam_messages = len(spams_tokenized) \n",
    "total_all_messages = len(spams_tokenized) + len(nons_tokenized)\n",
    "\n",
    "print(\"Total Number of words: \", total_word_count)"
   ]
  },
  {
   "cell_type": "code",
   "execution_count": 11,
   "metadata": {},
   "outputs": [
    {
     "name": "stdout",
     "output_type": "stream",
     "text": [
      "P(spam) =  0.38461538461538464\n"
     ]
    }
   ],
   "source": [
    "# P(spam) ... does not depend on an individual word so let's calculate that separately once \n",
    "\n",
    "p_spam = total_spam_messages / total_all_messages\n",
    "\n",
    "print(\"P(spam) = \", p_spam)"
   ]
  },
  {
   "cell_type": "code",
   "execution_count": 12,
   "metadata": {},
   "outputs": [],
   "source": [
    "# Helper function to count occurances \n",
    "\n",
    "def count_word_in_messages(word, messages): \n",
    "    total_count = 0\n",
    "    for msg in messages: \n",
    "        if word in msg:       # notice this ensured uniqueness automatically  \n",
    "            total_count += 1 \n",
    "            \n",
    "    return total_count "
   ]
  },
  {
   "cell_type": "markdown",
   "metadata": {},
   "source": [
    "## The Actual Probability Computation "
   ]
  },
  {
   "cell_type": "code",
   "execution_count": 16,
   "metadata": {},
   "outputs": [
    {
     "name": "stdout",
     "output_type": "stream",
     "text": [
      "['that', 'great', 'we', 'll', 'guild', 'we', 'try', 'meeting', 'customer', 'bristol', 'road']\n",
      "----------------\n",
      "Runnig for word: that\n",
      "P( w | spam)  =  0.0\n",
      "P( w )        =  0.07692307692307693\n",
      "P( spam )     =  0.38461538461538464\n",
      "P( spam | w ) =  0.0\n",
      "\n",
      "----------------\n",
      "Runnig for word: great\n",
      "P( w | spam)  =  0.0\n",
      "P( w )        =  0.15384615384615385\n",
      "P( spam )     =  0.38461538461538464\n",
      "P( spam | w ) =  0.0\n",
      "\n",
      "----------------\n",
      "Runnig for word: we\n",
      "P( w | spam)  =  0.2\n",
      "P( w )        =  0.15384615384615385\n",
      "P( spam )     =  0.38461538461538464\n",
      "P( spam | w ) =  0.5\n",
      "\n",
      "----------------\n",
      "Runnig for word: ll\n",
      "P( w | spam)  =  0.0\n",
      "P( w )        =  0.07692307692307693\n",
      "P( spam )     =  0.38461538461538464\n",
      "P( spam | w ) =  0.0\n",
      "\n",
      "----------------\n",
      "Runnig for word: guild\n",
      "P( w | spam)  =  0.0\n",
      "P( w )        =  0.07692307692307693\n",
      "P( spam )     =  0.38461538461538464\n",
      "P( spam | w ) =  0.0\n",
      "\n",
      "----------------\n",
      "Runnig for word: we\n",
      "P( w | spam)  =  0.2\n",
      "P( w )        =  0.15384615384615385\n",
      "P( spam )     =  0.38461538461538464\n",
      "P( spam | w ) =  0.5\n",
      "\n",
      "----------------\n",
      "Runnig for word: try\n",
      "P( w | spam)  =  0.0\n",
      "P( w )        =  0.07692307692307693\n",
      "P( spam )     =  0.38461538461538464\n",
      "P( spam | w ) =  0.0\n",
      "\n",
      "----------------\n",
      "Runnig for word: meeting\n",
      "P( w | spam)  =  0.0\n",
      "P( w )        =  0.07692307692307693\n",
      "P( spam )     =  0.38461538461538464\n",
      "P( spam | w ) =  0.0\n",
      "\n",
      "----------------\n",
      "Runnig for word: customer\n",
      "P( w | spam)  =  0.6\n",
      "P( w )        =  0.3076923076923077\n",
      "P( spam )     =  0.38461538461538464\n",
      "P( spam | w ) =  0.75\n",
      "\n",
      "----------------\n",
      "Runnig for word: bristol\n",
      "P( w | spam)  =  0.0\n",
      "P( w )        =  0.07692307692307693\n",
      "P( spam )     =  0.38461538461538464\n",
      "P( spam | w ) =  0.0\n",
      "\n",
      "----------------\n",
      "Runnig for word: road\n",
      "P( w | spam)  =  0.0\n",
      "P( w )        =  0.07692307692307693\n",
      "P( spam )     =  0.38461538461538464\n",
      "P( spam | w ) =  0.0\n",
      "\n",
      "P( spam | all_words ) =  0.0\n"
     ]
    }
   ],
   "source": [
    "final_prob = 1   # can't start from 0 \n",
    "\n",
    "\n",
    "for test_sentence in spam_test_2: \n",
    "    test_sentence = tokenize_sentence(test_sentence)\n",
    "    print(test_sentence)\n",
    "    \n",
    "    # let's run this for each word separately \n",
    "    for word in test_sentence: \n",
    "        print(\"----------------\")\n",
    "        print(\"Runnig for word:\", word)\n",
    "        \n",
    "        # Find P( w | spam)\n",
    "        spam_count = count_word_in_messages(word, spams_tokenized)\n",
    "        p_w_spam = spam_count / total_spam_messages \n",
    "        print(\"P( w | spam)  = \", p_w_spam)\n",
    "        \n",
    "        # Find P( w )\n",
    "        w_count = count_word_in_messages(word, spams_tokenized)\n",
    "        w_count += count_word_in_messages(word, nons_tokenized)\n",
    "        p_w = w_count / total_all_messages\n",
    "        print(\"P( w )        = \", p_w)\n",
    "        \n",
    "        \n",
    "        # Find P( spam | w )\n",
    "        p_spam_w = (p_w_spam * p_spam) / p_w\n",
    "        print(\"P( spam )     = \", p_spam)\n",
    "        print(\"P( spam | w ) = \", p_spam_w)\n",
    "        print(\"\")\n",
    "        final_prob *= p_spam_w\n",
    "        \n",
    "        \n",
    "    print(\"P( spam | all_words ) = \", final_prob)"
   ]
  },
  {
   "cell_type": "code",
   "execution_count": null,
   "metadata": {},
   "outputs": [],
   "source": []
  },
  {
   "cell_type": "code",
   "execution_count": null,
   "metadata": {},
   "outputs": [],
   "source": []
  },
  {
   "cell_type": "code",
   "execution_count": null,
   "metadata": {},
   "outputs": [],
   "source": []
  },
  {
   "cell_type": "code",
   "execution_count": null,
   "metadata": {},
   "outputs": [],
   "source": []
  },
  {
   "cell_type": "code",
   "execution_count": null,
   "metadata": {},
   "outputs": [],
   "source": []
  }
 ],
 "metadata": {
  "kernelspec": {
   "display_name": "Python 3",
   "language": "python",
   "name": "python3"
  },
  "language_info": {
   "codemirror_mode": {
    "name": "ipython",
    "version": 3
   },
   "file_extension": ".py",
   "mimetype": "text/x-python",
   "name": "python",
   "nbconvert_exporter": "python",
   "pygments_lexer": "ipython3",
   "version": "3.9.1"
  }
 },
 "nbformat": 4,
 "nbformat_minor": 4
}
