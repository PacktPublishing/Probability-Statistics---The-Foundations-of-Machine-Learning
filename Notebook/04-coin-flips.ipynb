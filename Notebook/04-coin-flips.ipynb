{
 "cells": [
  {
   "cell_type": "markdown",
   "metadata": {},
   "source": [
    "# Probability - Coin Flips and Experiments "
   ]
  },
  {
   "cell_type": "code",
   "execution_count": 1,
   "metadata": {},
   "outputs": [],
   "source": [
    "import matplotlib \n",
    "import matplotlib.pyplot as plt\n",
    "%matplotlib inline\n",
    "\n",
    "import numpy as np \n",
    "\n",
    "import seaborn as sns\n",
    "sns.set(color_codes=True)\n",
    "sns.set_style(\"white\")     # See more styling options here: https://seaborn.pydata.org/tutorial/aesthetics.html"
   ]
  },
  {
   "cell_type": "code",
   "execution_count": 8,
   "metadata": {},
   "outputs": [
    {
     "data": {
      "text/plain": [
       "0.2921493093953441"
      ]
     },
     "execution_count": 8,
     "metadata": {},
     "output_type": "execute_result"
    }
   ],
   "source": [
    "np.random.uniform(low=0.0, high=1.0)  "
   ]
  },
  {
   "cell_type": "code",
   "execution_count": 9,
   "metadata": {},
   "outputs": [],
   "source": [
    "# generate a 'flip'\n",
    "def flip(num = 1):\n",
    "    flips = [] \n",
    "    \n",
    "    for i in range(num): \n",
    "        num = np.random.uniform(low=0.0, high=1.0)      \n",
    "        if num > 0.5: \n",
    "            flips.append('H')             # should be doing yield here if you know 'generators'\n",
    "        else: \n",
    "            flips.append('T')\n",
    "    return flips"
   ]
  },
  {
   "cell_type": "code",
   "execution_count": 22,
   "metadata": {},
   "outputs": [
    {
     "data": {
      "text/plain": [
       "['H']"
      ]
     },
     "execution_count": 22,
     "metadata": {},
     "output_type": "execute_result"
    }
   ],
   "source": [
    "flip()"
   ]
  },
  {
   "cell_type": "code",
   "execution_count": 23,
   "metadata": {},
   "outputs": [
    {
     "name": "stdout",
     "output_type": "stream",
     "text": [
      "['H', 'H', 'H', 'H', 'T', 'T', 'H', 'H', 'H', 'H']\n"
     ]
    }
   ],
   "source": [
    "flips = flip(10) \n",
    "print(flips)"
   ]
  },
  {
   "cell_type": "code",
   "execution_count": 24,
   "metadata": {},
   "outputs": [],
   "source": [
    "values, counts = np.unique(flips, return_counts=True)"
   ]
  },
  {
   "cell_type": "code",
   "execution_count": 25,
   "metadata": {},
   "outputs": [
    {
     "data": {
      "text/plain": [
       "(array(['H', 'T'], dtype='<U1'), array([8, 2]))"
      ]
     },
     "execution_count": 25,
     "metadata": {},
     "output_type": "execute_result"
    }
   ],
   "source": [
    "values, counts"
   ]
  },
  {
   "cell_type": "markdown",
   "metadata": {},
   "source": [
    "## Repdoducible 'Randomness' "
   ]
  },
  {
   "cell_type": "code",
   "execution_count": 43,
   "metadata": {},
   "outputs": [],
   "source": [
    "# computers are 'deterministic'. You can not do 'random' in computers! \n",
    "# So, you start with some 'seed' then do deterministic things \n",
    "# this is called pseudo-randomness \n",
    "\n",
    "# sometimes you want to suppress this! \n",
    "\n",
    "np.random.seed(1337)   # random numbers and seed "
   ]
  },
  {
   "cell_type": "code",
   "execution_count": 46,
   "metadata": {},
   "outputs": [
    {
     "data": {
      "text/plain": [
       "0.6027633760716439"
      ]
     },
     "execution_count": 46,
     "metadata": {},
     "output_type": "execute_result"
    }
   ],
   "source": [
    "np.random.uniform(low=0.0, high=1.0)  "
   ]
  },
  {
   "cell_type": "code",
   "execution_count": 71,
   "metadata": {},
   "outputs": [
    {
     "name": "stdout",
     "output_type": "stream",
     "text": [
      "['T']\n",
      "['T'] [1]\n"
     ]
    }
   ],
   "source": [
    "import matplotlib \n",
    "import matplotlib.pyplot as plt\n",
    "%matplotlib inline\n",
    "\n",
    "import numpy as np \n",
    "np.random.seed(1337)   # random numbers and seed \n",
    "\n",
    "\n",
    "import seaborn as sns\n",
    "sns.set(color_codes=True)\n",
    "sns.set_style(\"white\")     # See more styling options here: https://seaborn.pydata.org/tutorial/aesthetics.html\n",
    "\n",
    "\n",
    "\n",
    "\n",
    "# generate a 'flip'\n",
    "def flip(num = 1):\n",
    "    flips = [] \n",
    "    \n",
    "    for i in range(num): \n",
    "        num = np.random.uniform(low=0.0, high=1.0)      \n",
    "        if num > 0.75: \n",
    "            flips.append('H')             # should be doing yield here if you know 'generators'\n",
    "        else: \n",
    "            flips.append('T')\n",
    "    return flips\n",
    "\n",
    "\n",
    "# Flip \n",
    "flips = flip(1) \n",
    "values, counts = np.unique(flips, return_counts=True)\n",
    "\n",
    "# print values/stats\n",
    "# print(flip())\n",
    "print(flips)\n",
    "print(values, counts)"
   ]
  },
  {
   "cell_type": "markdown",
   "metadata": {},
   "source": [
    "## Probability of Flips "
   ]
  },
  {
   "cell_type": "code",
   "execution_count": 72,
   "metadata": {},
   "outputs": [],
   "source": [
    "from collections import Counter, defaultdict \n",
    "\n",
    "\n",
    "def get_freqs(flips): \n",
    "    counter = Counter(flips)\n",
    "    \n",
    "    # return dict(counter)     # bug: what if there are no 'H' or no 'T'\n",
    "\n",
    "    return defaultdict(int, counter)"
   ]
  },
  {
   "cell_type": "code",
   "execution_count": 73,
   "metadata": {},
   "outputs": [
    {
     "data": {
      "text/plain": [
       "['T']"
      ]
     },
     "execution_count": 73,
     "metadata": {},
     "output_type": "execute_result"
    }
   ],
   "source": [
    "flips"
   ]
  },
  {
   "cell_type": "code",
   "execution_count": 74,
   "metadata": {},
   "outputs": [
    {
     "name": "stdout",
     "output_type": "stream",
     "text": [
      "defaultdict(<class 'int'>, {'T': 1})\n"
     ]
    }
   ],
   "source": [
    "freqs = get_freqs(flips)\n",
    "print(freqs)"
   ]
  },
  {
   "cell_type": "code",
   "execution_count": 75,
   "metadata": {},
   "outputs": [
    {
     "name": "stdout",
     "output_type": "stream",
     "text": [
      "0.0\n"
     ]
    }
   ],
   "source": [
    "prob_h = freqs['H'] / len(flips)\n",
    "print(prob_h)"
   ]
  },
  {
   "cell_type": "markdown",
   "metadata": {},
   "source": [
    "## Experiment: Prob calculated based on 1 flip upto N flips "
   ]
  },
  {
   "cell_type": "code",
   "execution_count": 76,
   "metadata": {},
   "outputs": [],
   "source": [
    "maximum_flips = 1000\n",
    "\n",
    "probs = [] \n",
    "for num_flips in range(1, maximum_flips):\n",
    "    flips = flip(num_flips)\n",
    "    freqs = get_freqs(flips)\n",
    "    prob_h = freqs['H'] / len(flips)\n",
    "\n",
    "    probs.append(prob_h)\n",
    "    \n",
    "# print(probs)"
   ]
  },
  {
   "cell_type": "code",
   "execution_count": 77,
   "metadata": {},
   "outputs": [
    {
     "name": "stdout",
     "output_type": "stream",
     "text": [
      "defaultdict(<class 'int'>, {'T': 742, 'H': 257})\n"
     ]
    }
   ],
   "source": [
    "print(freqs)"
   ]
  },
  {
   "cell_type": "code",
   "execution_count": 78,
   "metadata": {},
   "outputs": [
    {
     "data": {
      "image/png": "[encoded data removed]",
      "text/plain": [
       "<Figure size 432x288 with 1 Axes>"
      ]
     },
     "metadata": {},
     "output_type": "display_data"
    }
   ],
   "source": [
    "plt.plot(probs)\n",
    "plt.ylabel('Estimated Probability')\n",
    "plt.xlabel('Number of Flips in Experiment');\n",
    "plt.title(\"Calculating Probability over Number of Flips\")\n",
    "sns.despine(offset=10, trim=True);  # move axes away \n",
    "plt.show()"
   ]
  },
  {
   "cell_type": "code",
   "execution_count": 79,
   "metadata": {},
   "outputs": [
    {
     "data": {
      "image/png": "[encoded data removed]",
      "text/plain": [
       "<Figure size 432x288 with 1 Axes>"
      ]
     },
     "metadata": {},
     "output_type": "display_data"
    }
   ],
   "source": [
    "plt.plot(probs[:10])\n",
    "plt.ylabel('Estimated Probability')\n",
    "plt.xlabel('Number of Flips in Experiment');\n",
    "plt.title(\"Calculating Probability over Number of Flips\")\n",
    "sns.despine(offset=10, trim=True);  # move axes away \n",
    "plt.show()"
   ]
  },
  {
   "cell_type": "code",
   "execution_count": 80,
   "metadata": {},
   "outputs": [
    {
     "data": {
      "image/png": "[encoded data removed]",
      "text/plain": [
       "<Figure size 432x288 with 1 Axes>"
      ]
     },
     "metadata": {},
     "output_type": "display_data"
    }
   ],
   "source": [
    "plt.plot(probs[-10:])\n",
    "plt.ylabel('Estimated Probability')\n",
    "plt.xlabel('Number of Flips in Experiment');\n",
    "plt.title(\"Calculating Probability over Number of Flips\")\n",
    "sns.despine(offset=10, trim=True);  # move axes away \n",
    "plt.show()"
   ]
  },
  {
   "cell_type": "markdown",
   "metadata": {},
   "source": [
    "## Bokeh For Interactive Plots "
   ]
  },
  {
   "cell_type": "code",
   "execution_count": 81,
   "metadata": {},
   "outputs": [
    {
     "name": "stdout",
     "output_type": "stream",
     "text": [
      "Requirement already satisfied: bokeh in /Users/nam/miniforge3/lib/python3.9/site-packages (2.2.3)\n",
      "Requirement already satisfied: packaging>=16.8 in /Users/nam/miniforge3/lib/python3.9/site-packages (from bokeh) (20.8)\n",
      "Requirement already satisfied: pillow>=7.1.0 in /Users/nam/miniforge3/lib/python3.9/site-packages (from bokeh) (8.1.0)\n",
      "Requirement already satisfied: PyYAML>=3.10 in /Users/nam/miniforge3/lib/python3.9/site-packages (from bokeh) (5.4.1)\n",
      "Requirement already satisfied: python-dateutil>=2.1 in /Users/nam/miniforge3/lib/python3.9/site-packages (from bokeh) (2.8.1)\n",
      "Requirement already satisfied: typing-extensions>=3.7.4 in /Users/nam/miniforge3/lib/python3.9/site-packages (from bokeh) (3.7.4.3)\n",
      "Requirement already satisfied: numpy>=1.11.3 in /Users/nam/miniforge3/lib/python3.9/site-packages (from bokeh) (1.19.5)\n",
      "Requirement already satisfied: tornado>=5.1 in /Users/nam/miniforge3/lib/python3.9/site-packages (from bokeh) (6.1)\n",
      "Requirement already satisfied: Jinja2>=2.7 in /Users/nam/miniforge3/lib/python3.9/site-packages (from bokeh) (2.11.2)\n",
      "Requirement already satisfied: MarkupSafe>=0.23 in /Users/nam/miniforge3/lib/python3.9/site-packages (from Jinja2>=2.7->bokeh) (1.1.1)\n",
      "Requirement already satisfied: pyparsing>=2.0.2 in /Users/nam/miniforge3/lib/python3.9/site-packages (from packaging>=16.8->bokeh) (2.4.7)\n",
      "Requirement already satisfied: six>=1.5 in /Users/nam/miniforge3/lib/python3.9/site-packages (from python-dateutil>=2.1->bokeh) (1.15.0)\n"
     ]
    }
   ],
   "source": [
    "!pip install bokeh"
   ]
  },
  {
   "cell_type": "code",
   "execution_count": 82,
   "metadata": {},
   "outputs": [
    {
     "data": {
      "text/html": [
       "\n",
       "    <div class=\"bk-root\">\n",
       "        <a href=\"https://bokeh.org\" target=\"_blank\" class=\"bk-logo bk-logo-small bk-logo-notebook\"></a>\n",
       "        <span id=\"1088\">Loading BokehJS ...</span>\n",
       "    </div>"
      ]
     },
     "metadata": {},
     "output_type": "display_data"
    },
    {
     "data": {
      "application/javascript": [
       "\n",
       "(function(root) {\n",
       "  function now() {\n",
       "    return new Date();\n",
       "  }\n",
       "\n",
       "  var force = true;\n",
       "\n",
       "  if (typeof root._bokeh_onload_callbacks === \"undefined\" || force === true) {\n",
       "    root._bokeh_onload_callbacks = [];\n",
       "    root._bokeh_is_loading = undefined;\n",
       "  }\n",
       "\n",
       "  var JS_MIME_TYPE = 'application/javascript';\n",
       "  var HTML_MIME_TYPE = 'text/html';\n",
       "  var EXEC_MIME_TYPE = 'application/vnd.bokehjs_exec.v0+json';\n",
       "  var CLASS_NAME = 'output_bokeh rendered_html';\n",
       "\n",
       "  /**\n",
       "   * Render data to the DOM node\n",
       "   */\n",
       "  function render(props, node) {\n",
       "    var script = document.createElement(\"script\");\n",
       "    node.appendChild(script);\n",
       "  }\n",
       "\n",
       "  /**\n",
       "   * Handle when an output is cleared or removed\n",
       "   */\n",
       "  function handleClearOutput(event, handle) {\n",
       "    var cell = handle.cell;\n",
       "\n",
       "    var id = cell.output_area._bokeh_element_id;\n",
       "    var server_id = cell.output_area._bokeh_server_id;\n",
       "    // Clean up Bokeh references\n",
       "    if (id != null && id in Bokeh.index) {\n",
       "      Bokeh.index[id].model.document.clear();\n",
       "      delete Bokeh.index[id];\n",
       "    }\n",
       "\n",
       "    if (server_id !== undefined) {\n",
       "      // Clean up Bokeh references\n",
       "      var cmd = \"from bokeh.io.state import curstate; print(curstate().uuid_to_server['\" + server_id + \"'].get_sessions()[0].document.roots[0]._id)\";\n",
       "      cell.notebook.kernel.execute(cmd, {\n",
       "        iopub: {\n",
       "          output: function(msg) {\n",
       "            var id = msg.content.text.trim();\n",
       "            if (id in Bokeh.index) {\n",
       "              Bokeh.index[id].model.document.clear();\n",
       "              delete Bokeh.index[id];\n",
       "            }\n",
       "          }\n",
       "        }\n",
       "      });\n",
       "      // Destroy server and session\n",
       "      var cmd = \"import bokeh.io.notebook as ion; ion.destroy_server('\" + server_id + \"')\";\n",
       "      cell.notebook.kernel.execute(cmd);\n",
       "    }\n",
       "  }\n",
       "\n",
       "  /**\n",
       "   * Handle when a new output is added\n",
       "   */\n",
       "  function handleAddOutput(event, handle) {\n",
       "    var output_area = handle.output_area;\n",
       "    var output = handle.output;\n",
       "\n",
       "    // limit handleAddOutput to display_data with EXEC_MIME_TYPE content only\n",
       "    if ((output.output_type != \"display_data\") || (!output.data.hasOwnProperty(EXEC_MIME_TYPE))) {\n",
       "      return\n",
       "    }\n",
       "\n",
       "    var toinsert = output_area.element.find(\".\" + CLASS_NAME.split(' ')[0]);\n",
       "\n",
       "    if (output.metadata[EXEC_MIME_TYPE][\"id\"] !== undefined) {\n",
       "      toinsert[toinsert.length - 1].firstChild.textContent = output.data[JS_MIME_TYPE];\n",
       "      // store reference to embed id on output_area\n",
       "      output_area._bokeh_element_id = output.metadata[EXEC_MIME_TYPE][\"id\"];\n",
       "    }\n",
       "    if (output.metadata[EXEC_MIME_TYPE][\"server_id\"] !== undefined) {\n",
       "      var bk_div = document.createElement(\"div\");\n",
       "      bk_div.innerHTML = output.data[HTML_MIME_TYPE];\n",
       "      var script_attrs = bk_div.children[0].attributes;\n",
       "      for (var i = 0; i < script_attrs.length; i++) {\n",
       "        toinsert[toinsert.length - 1].firstChild.setAttribute(script_attrs[i].name, script_attrs[i].value);\n",
       "        toinsert[toinsert.length - 1].firstChild.textContent = bk_div.children[0].textContent\n",
       "      }\n",
       "      // store reference to server id on output_area\n",
       "      output_area._bokeh_server_id = output.metadata[EXEC_MIME_TYPE][\"server_id\"];\n",
       "    }\n",
       "  }\n",
       "\n",
       "  function register_renderer(events, OutputArea) {\n",
       "\n",
       "    function append_mime(data, metadata, element) {\n",
       "      // create a DOM node to render to\n",
       "      var toinsert = this.create_output_subarea(\n",
       "        metadata,\n",
       "        CLASS_NAME,\n",
       "        EXEC_MIME_TYPE\n",
       "      );\n",
       "      this.keyboard_manager.register_events(toinsert);\n",
       "      // Render to node\n",
       "      var props = {data: data, metadata: metadata[EXEC_MIME_TYPE]};\n",
       "      render(props, toinsert[toinsert.length - 1]);\n",
       "      element.append(toinsert);\n",
       "      return toinsert\n",
       "    }\n",
       "\n",
       "    /* Handle when an output is cleared or removed */\n",
       "    events.on('clear_output.CodeCell', handleClearOutput);\n",
       "    events.on('delete.Cell', handleClearOutput);\n",
       "\n",
       "    /* Handle when a new output is added */\n",
       "    events.on('output_added.OutputArea', handleAddOutput);\n",
       "\n",
       "    /**\n",
       "     * Register the mime type and append_mime function with output_area\n",
       "     */\n",
       "    OutputArea.prototype.register_mime_type(EXEC_MIME_TYPE, append_mime, {\n",
       "      /* Is output safe? */\n",
       "      safe: true,\n",
       "      /* Index of renderer in `output_area.display_order` */\n",
       "      index: 0\n",
       "    });\n",
       "  }\n",
       "\n",
       "  // register the mime type if in Jupyter Notebook environment and previously unregistered\n",
       "  if (root.Jupyter !== undefined) {\n",
       "    var events = require('base/js/events');\n",
       "    var OutputArea = require('notebook/js/outputarea').OutputArea;\n",
       "\n",
       "    if (OutputArea.prototype.mime_types().indexOf(EXEC_MIME_TYPE) == -1) {\n",
       "      register_renderer(events, OutputArea);\n",
       "    }\n",
       "  }\n",
       "\n",
       "  \n",
       "  if (typeof (root._bokeh_timeout) === \"undefined\" || force === true) {\n",
       "    root._bokeh_timeout = Date.now() + 5000;\n",
       "    root._bokeh_failed_load = false;\n",
       "  }\n",
       "\n",
       "  var NB_LOAD_WARNING = {'data': {'text/html':\n",
       "     \"<div style='background-color: #fdd'>\\n\"+\n",
       "     \"<p>\\n\"+\n",
       "     \"BokehJS does not appear to have successfully loaded. If loading BokehJS from CDN, this \\n\"+\n",
       "     \"may be due to a slow or bad network connection. Possible fixes:\\n\"+\n",
       "     \"</p>\\n\"+\n",
       "     \"<ul>\\n\"+\n",
       "     \"<li>re-rerun `output_notebook()` to attempt to load from CDN again, or</li>\\n\"+\n",
       "     \"<li>use INLINE resources instead, as so:</li>\\n\"+\n",
       "     \"</ul>\\n\"+\n",
       "     \"<code>\\n\"+\n",
       "     \"from bokeh.resources import INLINE\\n\"+\n",
       "     \"output_notebook(resources=INLINE)\\n\"+\n",
       "     \"</code>\\n\"+\n",
       "     \"</div>\"}};\n",
       "\n",
       "  function display_loaded() {\n",
       "    var el = document.getElementById(\"1088\");\n",
       "    if (el != null) {\n",
       "      el.textContent = \"BokehJS is loading...\";\n",
       "    }\n",
       "    if (root.Bokeh !== undefined) {\n",
       "      if (el != null) {\n",
       "        el.textContent = \"BokehJS \" + root.Bokeh.version + \" successfully loaded.\";\n",
       "      }\n",
       "    } else if (Date.now() < root._bokeh_timeout) {\n",
       "      setTimeout(display_loaded, 100)\n",
       "    }\n",
       "  }\n",
       "\n",
       "\n",
       "  function run_callbacks() {\n",
       "    try {\n",
       "      root._bokeh_onload_callbacks.forEach(function(callback) {\n",
       "        if (callback != null)\n",
       "          callback();\n",
       "      });\n",
       "    } finally {\n",
       "      delete root._bokeh_onload_callbacks\n",
       "    }\n",
       "    console.debug(\"Bokeh: all callbacks have finished\");\n",
       "  }\n",
       "\n",
       "  function load_libs(css_urls, js_urls, callback) {\n",
       "    if (css_urls == null) css_urls = [];\n",
       "    if (js_urls == null) js_urls = [];\n",
       "\n",
       "    root._bokeh_onload_callbacks.push(callback);\n",
       "    if (root._bokeh_is_loading > 0) {\n",
       "      console.debug(\"Bokeh: BokehJS is being loaded, scheduling callback at\", now());\n",
       "      return null;\n",
       "    }\n",
       "    if (js_urls == null || js_urls.length === 0) {\n",
       "      run_callbacks();\n",
       "      return null;\n",
       "    }\n",
       "    console.debug(\"Bokeh: BokehJS not loaded, scheduling load and callback at\", now());\n",
       "    root._bokeh_is_loading = css_urls.length + js_urls.length;\n",
       "\n",
       "    function on_load() {\n",
       "      root._bokeh_is_loading--;\n",
       "      if (root._bokeh_is_loading === 0) {\n",
       "        console.debug(\"Bokeh: all BokehJS libraries/stylesheets loaded\");\n",
       "        run_callbacks()\n",
       "      }\n",
       "    }\n",
       "\n",
       "    function on_error() {\n",
       "      console.error(\"failed to load \" + url);\n",
       "    }\n",
       "\n",
       "    for (var i = 0; i < css_urls.length; i++) {\n",
       "      var url = css_urls[i];\n",
       "      const element = document.createElement(\"link\");\n",
       "      element.onload = on_load;\n",
       "      element.onerror = on_error;\n",
       "      element.rel = \"stylesheet\";\n",
       "      element.type = \"text/css\";\n",
       "      element.href = url;\n",
       "      console.debug(\"Bokeh: injecting link tag for BokehJS stylesheet: \", url);\n",
       "      document.body.appendChild(element);\n",
       "    }\n",
       "\n",
       "    const hashes = {\"https://cdn.bokeh.org/bokeh/release/bokeh-2.2.3.min.js\": \"T2yuo9Oe71Cz/I4X9Ac5+gpEa5a8PpJCDlqKYO0CfAuEszu1JrXLl8YugMqYe3sM\", \"https://cdn.bokeh.org/bokeh/release/bokeh-widgets-2.2.3.min.js\": \"98GDGJ0kOMCUMUePhksaQ/GYgB3+NH9h996V88sh3aOiUNX3N+fLXAtry6xctSZ6\", \"https://cdn.bokeh.org/bokeh/release/bokeh-tables-2.2.3.min.js\": \"89bArO+nlbP3sgakeHjCo1JYxYR5wufVgA3IbUvDY+K7w4zyxJqssu7wVnfeKCq8\"};\n",
       "\n",
       "    for (var i = 0; i < js_urls.length; i++) {\n",
       "      var url = js_urls[i];\n",
       "      var element = document.createElement('script');\n",
       "      element.onload = on_load;\n",
       "      element.onerror = on_error;\n",
       "      element.async = false;\n",
       "      element.src = url;\n",
       "      if (url in hashes) {\n",
       "        element.crossOrigin = \"anonymous\";\n",
       "        element.integrity = \"sha384-\" + hashes[url];\n",
       "      }\n",
       "      console.debug(\"Bokeh: injecting script tag for BokehJS library: \", url);\n",
       "      document.head.appendChild(element);\n",
       "    }\n",
       "  };\n",
       "\n",
       "  function inject_raw_css(css) {\n",
       "    const element = document.createElement(\"style\");\n",
       "    element.appendChild(document.createTextNode(css));\n",
       "    document.body.appendChild(element);\n",
       "  }\n",
       "\n",
       "  \n",
       "  var js_urls = [\"https://cdn.bokeh.org/bokeh/release/bokeh-2.2.3.min.js\", \"https://cdn.bokeh.org/bokeh/release/bokeh-widgets-2.2.3.min.js\", \"https://cdn.bokeh.org/bokeh/release/bokeh-tables-2.2.3.min.js\"];\n",
       "  var css_urls = [];\n",
       "  \n",
       "\n",
       "  var inline_js = [\n",
       "    function(Bokeh) {\n",
       "      Bokeh.set_log_level(\"info\");\n",
       "    },\n",
       "    function(Bokeh) {\n",
       "    \n",
       "    \n",
       "    }\n",
       "  ];\n",
       "\n",
       "  function run_inline_js() {\n",
       "    \n",
       "    if (root.Bokeh !== undefined || force === true) {\n",
       "      \n",
       "    for (var i = 0; i < inline_js.length; i++) {\n",
       "      inline_js[i].call(root, root.Bokeh);\n",
       "    }\n",
       "    if (force === true) {\n",
       "        display_loaded();\n",
       "      }} else if (Date.now() < root._bokeh_timeout) {\n",
       "      setTimeout(run_inline_js, 100);\n",
       "    } else if (!root._bokeh_failed_load) {\n",
       "      console.log(\"Bokeh: BokehJS failed to load within specified timeout.\");\n",
       "      root._bokeh_failed_load = true;\n",
       "    } else if (force !== true) {\n",
       "      var cell = $(document.getElementById(\"1088\")).parents('.cell').data().cell;\n",
       "      cell.output_area.append_execute_result(NB_LOAD_WARNING)\n",
       "    }\n",
       "\n",
       "  }\n",
       "\n",
       "  if (root._bokeh_is_loading === 0) {\n",
       "    console.debug(\"Bokeh: BokehJS loaded, going straight to plotting\");\n",
       "    run_inline_js();\n",
       "  } else {\n",
       "    load_libs(css_urls, js_urls, function() {\n",
       "      console.debug(\"Bokeh: BokehJS plotting callback run at\", now());\n",
       "      run_inline_js();\n",
       "    });\n",
       "  }\n",
       "}(window));"
      ],
      "application/vnd.bokehjs_load.v0+json": "\n(function(root) {\n  function now() {\n    return new Date();\n  }\n\n  var force = true;\n\n  if (typeof root._bokeh_onload_callbacks === \"undefined\" || force === true) {\n    root._bokeh_onload_callbacks = [];\n    root._bokeh_is_loading = undefined;\n  }\n\n  \n\n  \n  if (typeof (root._bokeh_timeout) === \"undefined\" || force === true) {\n    root._bokeh_timeout = Date.now() + 5000;\n    root._bokeh_failed_load = false;\n  }\n\n  var NB_LOAD_WARNING = {'data': {'text/html':\n     \"<div style='background-color: #fdd'>\\n\"+\n     \"<p>\\n\"+\n     \"BokehJS does not appear to have successfully loaded. If loading BokehJS from CDN, this \\n\"+\n     \"may be due to a slow or bad network connection. Possible fixes:\\n\"+\n     \"</p>\\n\"+\n     \"<ul>\\n\"+\n     \"<li>re-rerun `output_notebook()` to attempt to load from CDN again, or</li>\\n\"+\n     \"<li>use INLINE resources instead, as so:</li>\\n\"+\n     \"</ul>\\n\"+\n     \"<code>\\n\"+\n     \"from bokeh.resources import INLINE\\n\"+\n     \"output_notebook(resources=INLINE)\\n\"+\n     \"</code>\\n\"+\n     \"</div>\"}};\n\n  function display_loaded() {\n    var el = document.getElementById(\"1088\");\n    if (el != null) {\n      el.textContent = \"BokehJS is loading...\";\n    }\n    if (root.Bokeh !== undefined) {\n      if (el != null) {\n        el.textContent = \"BokehJS \" + root.Bokeh.version + \" successfully loaded.\";\n      }\n    } else if (Date.now() < root._bokeh_timeout) {\n      setTimeout(display_loaded, 100)\n    }\n  }\n\n\n  function run_callbacks() {\n    try {\n      root._bokeh_onload_callbacks.forEach(function(callback) {\n        if (callback != null)\n          callback();\n      });\n    } finally {\n      delete root._bokeh_onload_callbacks\n    }\n    console.debug(\"Bokeh: all callbacks have finished\");\n  }\n\n  function load_libs(css_urls, js_urls, callback) {\n    if (css_urls == null) css_urls = [];\n    if (js_urls == null) js_urls = [];\n\n    root._bokeh_onload_callbacks.push(callback);\n    if (root._bokeh_is_loading > 0) {\n      console.debug(\"Bokeh: BokehJS is being loaded, scheduling callback at\", now());\n      return null;\n    }\n    if (js_urls == null || js_urls.length === 0) {\n      run_callbacks();\n      return null;\n    }\n    console.debug(\"Bokeh: BokehJS not loaded, scheduling load and callback at\", now());\n    root._bokeh_is_loading = css_urls.length + js_urls.length;\n\n    function on_load() {\n      root._bokeh_is_loading--;\n      if (root._bokeh_is_loading === 0) {\n        console.debug(\"Bokeh: all BokehJS libraries/stylesheets loaded\");\n        run_callbacks()\n      }\n    }\n\n    function on_error() {\n      console.error(\"failed to load \" + url);\n    }\n\n    for (var i = 0; i < css_urls.length; i++) {\n      var url = css_urls[i];\n      const element = document.createElement(\"link\");\n      element.onload = on_load;\n      element.onerror = on_error;\n      element.rel = \"stylesheet\";\n      element.type = \"text/css\";\n      element.href = url;\n      console.debug(\"Bokeh: injecting link tag for BokehJS stylesheet: \", url);\n      document.body.appendChild(element);\n    }\n\n    const hashes = {\"https://cdn.bokeh.org/bokeh/release/bokeh-2.2.3.min.js\": \"T2yuo9Oe71Cz/I4X9Ac5+gpEa5a8PpJCDlqKYO0CfAuEszu1JrXLl8YugMqYe3sM\", \"https://cdn.bokeh.org/bokeh/release/bokeh-widgets-2.2.3.min.js\": \"98GDGJ0kOMCUMUePhksaQ/GYgB3+NH9h996V88sh3aOiUNX3N+fLXAtry6xctSZ6\", \"https://cdn.bokeh.org/bokeh/release/bokeh-tables-2.2.3.min.js\": \"89bArO+nlbP3sgakeHjCo1JYxYR5wufVgA3IbUvDY+K7w4zyxJqssu7wVnfeKCq8\"};\n\n    for (var i = 0; i < js_urls.length; i++) {\n      var url = js_urls[i];\n      var element = document.createElement('script');\n      element.onload = on_load;\n      element.onerror = on_error;\n      element.async = false;\n      element.src = url;\n      if (url in hashes) {\n        element.crossOrigin = \"anonymous\";\n        element.integrity = \"sha384-\" + hashes[url];\n      }\n      console.debug(\"Bokeh: injecting script tag for BokehJS library: \", url);\n      document.head.appendChild(element);\n    }\n  };\n\n  function inject_raw_css(css) {\n    const element = document.createElement(\"style\");\n    element.appendChild(document.createTextNode(css));\n    document.body.appendChild(element);\n  }\n\n  \n  var js_urls = [\"https://cdn.bokeh.org/bokeh/release/bokeh-2.2.3.min.js\", \"https://cdn.bokeh.org/bokeh/release/bokeh-widgets-2.2.3.min.js\", \"https://cdn.bokeh.org/bokeh/release/bokeh-tables-2.2.3.min.js\"];\n  var css_urls = [];\n  \n\n  var inline_js = [\n    function(Bokeh) {\n      Bokeh.set_log_level(\"info\");\n    },\n    function(Bokeh) {\n    \n    \n    }\n  ];\n\n  function run_inline_js() {\n    \n    if (root.Bokeh !== undefined || force === true) {\n      \n    for (var i = 0; i < inline_js.length; i++) {\n      inline_js[i].call(root, root.Bokeh);\n    }\n    if (force === true) {\n        display_loaded();\n      }} else if (Date.now() < root._bokeh_timeout) {\n      setTimeout(run_inline_js, 100);\n    } else if (!root._bokeh_failed_load) {\n      console.log(\"Bokeh: BokehJS failed to load within specified timeout.\");\n      root._bokeh_failed_load = true;\n    } else if (force !== true) {\n      var cell = $(document.getElementById(\"1088\")).parents('.cell').data().cell;\n      cell.output_area.append_execute_result(NB_LOAD_WARNING)\n    }\n\n  }\n\n  if (root._bokeh_is_loading === 0) {\n    console.debug(\"Bokeh: BokehJS loaded, going straight to plotting\");\n    run_inline_js();\n  } else {\n    load_libs(css_urls, js_urls, function() {\n      console.debug(\"Bokeh: BokehJS plotting callback run at\", now());\n      run_inline_js();\n    });\n  }\n}(window));"
     },
     "metadata": {},
     "output_type": "display_data"
    }
   ],
   "source": [
    "from bokeh.io import show, output_notebook\n",
    "from bokeh.plotting import figure\n",
    "\n",
    "output_notebook()"
   ]
  },
  {
   "cell_type": "code",
   "execution_count": 83,
   "metadata": {},
   "outputs": [],
   "source": [
    "p = figure(title=\"Simple Line Plot in Bokeh\", \n",
    "           x_axis_label='Number of Flips in Experiment', \n",
    "           y_axis_label='Estimated Probability', \n",
    "           plot_width=580, plot_height=380)"
   ]
  },
  {
   "cell_type": "code",
   "execution_count": 84,
   "metadata": {},
   "outputs": [
    {
     "data": {
      "text/html": [
       "\n",
       "\n",
       "\n",
       "\n",
       "\n",
       "\n",
       "  <div class=\"bk-root\" id=\"4e13c478-717a-4e07-ae91-78bc77b872cc\" data-root-id=\"1089\"></div>\n"
      ]
     },
     "metadata": {},
     "output_type": "display_data"
    },
    {
     "data": {
      "application/javascript": [
       "(function(root) {\n",
       "  function embed_document(root) {\n",
       "    \n",
       "  var docs_json = {\"781b91fa-9df7-4544-8189-980cac37afb8\":{\"roots\":{\"references\":[{\"attributes\":{\"below\":[{\"id\":\"1100\"}],\"center\":[{\"id\":\"1103\"},{\"id\":\"1107\"}],\"left\":[{\"id\":\"1104\"}],\"plot_height\":380,\"plot_width\":580,\"renderers\":[{\"id\":\"1125\"}],\"title\":{\"id\":\"1090\"},\"toolbar\":{\"id\":\"1115\"},\"x_range\":{\"id\":\"1092\"},\"x_scale\":{\"id\":\"1096\"},\"y_range\":{\"id\":\"1094\"},\"y_scale\":{\"id\":\"1098\"}},\"id\":\"1089\",\"subtype\":\"Figure\",\"type\":\"Plot\"},{\"attributes\":{},\"id\":\"1141\",\"type\":\"UnionRenderers\"},{\"attributes\":{},\"id\":\"1136\",\"type\":\"BasicTickFormatter\"},{\"attributes\":{},\"id\":\"1112\",\"type\":\"ResetTool\"},{\"attributes\":{\"overlay\":{\"id\":\"1114\"}},\"id\":\"1110\",\"type\":\"BoxZoomTool\"},{\"attributes\":{},\"id\":\"1138\",\"type\":\"BasicTickFormatter\"},{\"attributes\":{},\"id\":\"1108\",\"type\":\"PanTool\"},{\"attributes\":{},\"id\":\"1105\",\"type\":\"BasicTicker\"},{\"attributes\":{\"data\":{\"x\":[1,2,3,4,5,6,7,8,9,10,11,12,13,14,15,16,17,18,19,20,21,22,23,24,25,26,27,28,29,30,31,32,33,34,35,36,37,38,39,40,41,42,43,44,45,46,47,48,49,50,51,52,53,54,55,56,57,58,59,60,61,62,63,64,65,66,67,68,69,70,71,72,73,74,75,76,77,78,79,80,81,82,83,84,85,86,87,88,89,90,91,92,93,94,95,96,97,98,99,100,101,102,103,104,105,106,107,108,109,110,111,112,113,114,115,116,117,118,119,120,121,122,123,124,125,126,127,128,129,130,131,132,133,134,135,136,137,138,139,140,141,142,143,144,145,146,147,148,149,150,151,152,153,154,155,156,157,158,159,160,161,162,163,164,165,166,167,168,169,170,171,172,173,174,175,176,177,178,179,180,181,182,183,184,185,186,187,188,189,190,191,192,193,194,195,196,197,198,199,200,201,202,203,204,205,206,207,208,209,210,211,212,213,214,215,216,217,218,219,220,221,222,223,224,225,226,227,228,229,230,231,232,233,234,235,236,237,238,239,240,241,242,243,244,245,246,247,248,249,250,251,252,253,254,255,256,257,258,259,260,261,262,263,264,265,266,267,268,269,270,271,272,273,274,275,276,277,278,279,280,281,282,283,284,285,286,287,288,289,290,291,292,293,294,295,296,297,298,299,300,301,302,303,304,305,306,307,308,309,310,311,312,313,314,315,316,317,318,319,320,321,322,323,324,325,326,327,328,329,330,331,332,333,334,335,336,337,338,339,340,341,342,343,344,345,346,347,348,349,350,351,352,353,354,355,356,357,358,359,360,361,362,363,364,365,366,367,368,369,370,371,372,373,374,375,376,377,378,379,380,381,382,383,384,385,386,387,388,389,390,391,392,393,394,395,396,397,398,399,400,401,402,403,404,405,406,407,408,409,410,411,412,413,414,415,416,417,418,419,420,421,422,423,424,425,426,427,428,429,430,431,432,433,434,435,436,437,438,439,440,441,442,443,444,445,446,447,448,449,450,451,452,453,454,455,456,457,458,459,460,461,462,463,464,465,466,467,468,469,470,471,472,473,474,475,476,477,478,479,480,481,482,483,484,485,486,487,488,489,490,491,492,493,494,495,496,497,498,499,500,501,502,503,504,505,506,507,508,509,510,511,512,513,514,515,516,517,518,519,520,521,522,523,524,525,526,527,528,529,530,531,532,533,534,535,536,537,538,539,540,541,542,543,544,545,546,547,548,549,550,551,552,553,554,555,556,557,558,559,560,561,562,563,564,565,566,567,568,569,570,571,572,573,574,575,576,577,578,579,580,581,582,583,584,585,586,587,588,589,590,591,592,593,594,595,596,597,598,599,600,601,602,603,604,605,606,607,608,609,610,611,612,613,614,615,616,617,618,619,620,621,622,623,624,625,626,627,628,629,630,631,632,633,634,635,636,637,638,639,640,641,642,643,644,645,646,647,648,649,650,651,652,653,654,655,656,657,658,659,660,661,662,663,664,665,666,667,668,669,670,671,672,673,674,675,676,677,678,679,680,681,682,683,684,685,686,687,688,689,690,691,692,693,694,695,696,697,698,699,700,701,702,703,704,705,706,707,708,709,710,711,712,713,714,715,716,717,718,719,720,721,722,723,724,725,726,727,728,729,730,731,732,733,734,735,736,737,738,739,740,741,742,743,744,745,746,747,748,749,750,751,752,753,754,755,756,757,758,759,760,761,762,763,764,765,766,767,768,769,770,771,772,773,774,775,776,777,778,779,780,781,782,783,784,785,786,787,788,789,790,791,792,793,794,795,796,797,798,799,800,801,802,803,804,805,806,807,808,809,810,811,812,813,814,815,816,817,818,819,820,821,822,823,824,825,826,827,828,829,830,831,832,833,834,835,836,837,838,839,840,841,842,843,844,845,846,847,848,849,850,851,852,853,854,855,856,857,858,859,860,861,862,863,864,865,866,867,868,869,870,871,872,873,874,875,876,877,878,879,880,881,882,883,884,885,886,887,888,889,890,891,892,893,894,895,896,897,898,899,900,901,902,903,904,905,906,907,908,909,910,911,912,913,914,915,916,917,918,919,920,921,922,923,924,925,926,927,928,929,930,931,932,933,934,935,936,937,938,939,940,941,942,943,944,945,946,947,948,949,950,951,952,953,954,955,956,957,958,959,960,961,962,963,964,965,966,967,968,969,970,971,972,973,974,975,976,977,978,979,980,981,982,983,984,985,986,987,988,989,990,991,992,993,994,995,996,997,998,999],\"y\":[0.0,0.0,0.0,0.25,0.4,0.3333333333333333,0.0,0.25,0.2222222222222222,0.3,0.2727272727272727,0.25,0.3076923076923077,0.21428571428571427,0.26666666666666666,0.0625,0.29411764705882354,0.1111111111111111,0.15789473684210525,0.3,0.19047619047619047,0.18181818181818182,0.21739130434782608,0.2916666666666667,0.24,0.19230769230769232,0.3333333333333333,0.25,0.3448275862068966,0.26666666666666666,0.22580645161290322,0.21875,0.15151515151515152,0.2647058823529412,0.2,0.19444444444444445,0.2702702702702703,0.18421052631578946,0.46153846153846156,0.2,0.1951219512195122,0.35714285714285715,0.2558139534883721,0.22727272727272727,0.3111111111111111,0.2608695652173913,0.2765957446808511,0.16666666666666666,0.2857142857142857,0.22,0.4117647058823529,0.3076923076923077,0.32075471698113206,0.2777777777777778,0.21818181818181817,0.17857142857142858,0.22807017543859648,0.22413793103448276,0.23728813559322035,0.25,0.2786885245901639,0.3225806451612903,0.30158730158730157,0.265625,0.18461538461538463,0.24242424242424243,0.16417910447761194,0.22058823529411764,0.21739130434782608,0.17142857142857143,0.2676056338028169,0.2638888888888889,0.2328767123287671,0.33783783783783783,0.18666666666666668,0.2236842105263158,0.2597402597402597,0.34615384615384615,0.2911392405063291,0.275,0.1728395061728395,0.2804878048780488,0.2891566265060241,0.34523809523809523,0.3176470588235294,0.22093023255813954,0.22988505747126436,0.25,0.29213483146067415,0.23333333333333334,0.3516483516483517,0.25,0.24731182795698925,0.3191489361702128,0.24210526315789474,0.3645833333333333,0.23711340206185566,0.22448979591836735,0.21212121212121213,0.23,0.297029702970297,0.20588235294117646,0.2524271844660194,0.19230769230769232,0.23809523809523808,0.29245283018867924,0.29906542056074764,0.2962962962962963,0.24770642201834864,0.2636363636363636,0.16216216216216217,0.22321428571428573,0.2743362831858407,0.2631578947368421,0.25217391304347825,0.21551724137931033,0.2564102564102564,0.2542372881355932,0.2184873949579832,0.21666666666666667,0.2396694214876033,0.2459016393442623,0.25203252032520324,0.25,0.224,0.2619047619047619,0.29133858267716534,0.2265625,0.17054263565891473,0.2692307692307692,0.26717557251908397,0.2803030303030303,0.2781954887218045,0.2462686567164179,0.2740740740740741,0.33088235294117646,0.2846715328467153,0.2246376811594203,0.2733812949640288,0.2571428571428571,0.20567375886524822,0.24647887323943662,0.25874125874125875,0.3055555555555556,0.23448275862068965,0.3150684931506849,0.2925170068027211,0.25675675675675674,0.2751677852348993,0.24666666666666667,0.2251655629139073,0.2631578947368421,0.28104575163398693,0.24675324675324675,0.2967741935483871,0.2692307692307692,0.24203821656050956,0.21518987341772153,0.18867924528301888,0.2375,0.2670807453416149,0.25925925925925924,0.2822085889570552,0.23170731707317074,0.2545454545454545,0.25301204819277107,0.33532934131736525,0.27380952380952384,0.2781065088757396,0.2823529411764706,0.26900584795321636,0.2616279069767442,0.21965317919075145,0.23563218390804597,0.25142857142857145,0.3068181818181818,0.22598870056497175,0.30337078651685395,0.25139664804469275,0.3055555555555556,0.2430939226519337,0.24725274725274726,0.2786885245901639,0.20652173913043478,0.1783783783783784,0.27956989247311825,0.24598930481283424,0.24468085106382978,0.30687830687830686,0.2,0.3036649214659686,0.2864583333333333,0.26424870466321243,0.25773195876288657,0.2564102564102564,0.23979591836734693,0.2436548223350254,0.26262626262626265,0.27638190954773867,0.21,0.23383084577114427,0.2376237623762376,0.23645320197044334,0.2696078431372549,0.2146341463414634,0.2621359223300971,0.2560386473429952,0.22596153846153846,0.24401913875598086,0.21428571428571427,0.2132701421800948,0.3160377358490566,0.2535211267605634,0.2803738317757009,0.2744186046511628,0.19444444444444445,0.271889400921659,0.3256880733944954,0.2831050228310502,0.23636363636363636,0.23529411764705882,0.2882882882882883,0.27802690582959644,0.23214285714285715,0.26222222222222225,0.21238938053097345,0.2907488986784141,0.22807017543859648,0.2576419213973799,0.21739130434782608,0.27705627705627706,0.2801724137931034,0.24034334763948498,0.2564102564102564,0.28936170212765955,0.2754237288135593,0.2489451476793249,0.27310924369747897,0.26359832635983266,0.225,0.2863070539419087,0.2396694214876033,0.25102880658436216,0.26639344262295084,0.2,0.3008130081300813,0.242914979757085,0.2661290322580645,0.24497991967871485,0.296,0.20717131474103587,0.23809523809523808,0.2450592885375494,0.2283464566929134,0.24313725490196078,0.2109375,0.2840466926070039,0.2131782945736434,0.2471042471042471,0.24615384615384617,0.2567049808429119,0.29770992366412213,0.2623574144486692,0.25,0.24528301886792453,0.22932330827067668,0.27340823970037453,0.20149253731343283,0.241635687732342,0.26296296296296295,0.28044280442804426,0.2647058823529412,0.27106227106227104,0.25547445255474455,0.24363636363636362,0.22826086956521738,0.21660649819494585,0.2446043165467626,0.24014336917562723,0.275,0.2704626334519573,0.2624113475177305,0.22968197879858657,0.2676056338028169,0.2596491228070175,0.2762237762237762,0.23344947735191637,0.2743055555555556,0.2629757785467128,0.25517241379310346,0.2611683848797251,0.2602739726027397,0.24232081911262798,0.2619047619047619,0.25084745762711863,0.2939189189189189,0.2828282828282828,0.21140939597315436,0.2408026755852843,0.23666666666666666,0.23920265780730898,0.2251655629139073,0.2508250825082508,0.2565789473684211,0.25573770491803277,0.23202614379084968,0.24104234527687296,0.2532467532467532,0.30097087378640774,0.24516129032258063,0.2540192926045016,0.2467948717948718,0.21405750798722045,0.28662420382165604,0.2507936507936508,0.2468354430379747,0.23974763406940064,0.2578616352201258,0.2507836990595611,0.265625,0.24922118380062305,0.2329192546583851,0.24148606811145512,0.23765432098765432,0.26153846153846155,0.27607361963190186,0.22935779816513763,0.25,0.2735562310030395,0.25757575757575757,0.26586102719033233,0.23493975903614459,0.1921921921921922,0.2844311377245509,0.21492537313432836,0.2619047619047619,0.24629080118694363,0.2692307692307692,0.26548672566371684,0.2411764705882353,0.2697947214076246,0.2046783625730994,0.2565597667638484,0.25290697674418605,0.2608695652173913,0.25722543352601157,0.2881844380403458,0.22988505747126436,0.2607449856733524,0.25142857142857145,0.2535612535612536,0.24431818181818182,0.22946175637393768,0.22598870056497175,0.27887323943661974,0.23314606741573032,0.2773109243697479,0.2122905027932961,0.23676880222841226,0.23055555555555557,0.27146814404432135,0.27624309392265195,0.2231404958677686,0.25824175824175827,0.2273972602739726,0.23497267759562843,0.2506811989100817,0.2717391304347826,0.2872628726287263,0.23783783783783785,0.24258760107816713,0.239247311827957,0.26541554959785524,0.25935828877005346,0.21866666666666668,0.22872340425531915,0.27055702917771884,0.2619047619047619,0.25065963060686014,0.22894736842105262,0.2572178477690289,0.225130890052356,0.21671018276762402,0.21354166666666666,0.23116883116883116,0.21761658031088082,0.3178294573643411,0.25773195876288657,0.2493573264781491,0.23846153846153847,0.21739130434782608,0.24744897959183673,0.24427480916030533,0.3020304568527919,0.22784810126582278,0.2398989898989899,0.24181360201511334,0.30904522613065327,0.23809523809523808,0.2675,0.26184538653366585,0.26865671641791045,0.2531017369727047,0.24752475247524752,0.22962962962962963,0.29310344827586204,0.2457002457002457,0.24019607843137256,0.2567237163814181,0.24634146341463414,0.25060827250608275,0.2354368932038835,0.2736077481840194,0.23671497584541062,0.21686746987951808,0.24278846153846154,0.2589928057553957,0.2822966507177033,0.24105011933174225,0.29285714285714287,0.27315914489311166,0.24170616113744076,0.22695035460992907,0.23113207547169812,0.24705882352941178,0.215962441314554,0.25995316159250587,0.2546728971962617,0.2727272727272727,0.2837209302325581,0.2691415313225058,0.25925925925925924,0.2817551963048499,0.23732718894009217,0.21839080459770116,0.24311926605504589,0.2517162471395881,0.2511415525114155,0.26651480637813213,0.25227272727272726,0.2290249433106576,0.22850678733031674,0.28216704288939054,0.2702702702702703,0.24269662921348314,0.24887892376681614,0.2483221476510067,0.25223214285714285,0.2873051224944321,0.24444444444444444,0.2727272727272727,0.2323008849557522,0.24061810154525387,0.2488986784140969,0.25274725274725274,0.21929824561403508,0.25601750547045954,0.27729257641921395,0.25054466230936817,0.27391304347826084,0.25162689804772237,0.2619047619047619,0.2678185745140389,0.2435344827586207,0.23010752688172043,0.2446351931330472,0.22055674518201285,0.25854700854700857,0.24307036247334754,0.23829787234042554,0.25690021231422505,0.23728813559322035,0.2854122621564482,0.20464135021097046,0.2863157894736842,0.23529411764705882,0.23060796645702306,0.24476987447698745,0.267223382045929,0.25833333333333336,0.27234927234927236,0.2697095435684647,0.2443064182194617,0.23553719008264462,0.24329896907216494,0.2716049382716049,0.26899383983572894,0.2520491803278688,0.24539877300613497,0.23877551020408164,0.25865580448065173,0.24796747967479674,0.2413793103448276,0.22874493927125505,0.23232323232323232,0.2560483870967742,0.24949698189134809,0.2289156626506024,0.25851703406813625,0.234,0.26746506986027946,0.25298804780876494,0.24652087475149106,0.25992063492063494,0.24356435643564356,0.23122529644268774,0.2781065088757396,0.2440944881889764,0.2554027504911591,0.23333333333333334,0.25048923679060664,0.24609375,0.26120857699805067,0.26459143968871596,0.258252427184466,0.26744186046511625,0.25338491295938104,0.2413127413127413,0.2658959537572254,0.23461538461538461,0.2533589251439539,0.2739463601532567,0.26195028680688337,0.2652671755725191,0.24761904761904763,0.2338403041825095,0.27514231499051234,0.26515151515151514,0.27599243856332706,0.24339622641509434,0.2542372881355932,0.24812030075187969,0.25328330206378985,0.24906367041198502,0.25794392523364484,0.23507462686567165,0.26629422718808193,0.25650557620817843,0.2949907235621521,0.2222222222222222,0.27911275415896486,0.26199261992619927,0.31675874769797424,0.26838235294117646,0.26788990825688075,0.23626373626373626,0.2449725776965265,0.2572992700729927,0.2331511839708561,0.26,0.2595281306715064,0.2898550724637681,0.2423146473779385,0.2563176895306859,0.24324324324324326,0.25359712230215825,0.24416517055655296,0.2831541218637993,0.2558139534883721,0.2625,0.22281639928698752,0.2508896797153025,0.26465364120781526,0.24645390070921985,0.2407079646017699,0.24734982332155478,0.24691358024691357,0.2764084507042254,0.2460456942003515,0.23859649122807017,0.2504378283712785,0.2465034965034965,0.21465968586387435,0.25609756097560976,0.2643478260869565,0.24305555555555555,0.23743500866551126,0.2370242214532872,0.25734024179620035,0.2396551724137931,0.24784853700516352,0.27147766323024053,0.2624356775300172,0.23116438356164384,0.24273504273504273,0.22184300341296928,0.2231686541737649,0.25,0.2495755517826825,0.2627118644067797,0.24196277495769883,0.27533783783783783,0.26812816188870153,0.2542087542087542,0.23865546218487396,0.27181208053691275,0.24623115577889448,0.24414715719063546,0.2370617696160267,0.27,0.24625623960066556,0.23588039867109634,0.2752902155887231,0.2533112582781457,0.228099173553719,0.23432343234323433,0.23393739703459637,0.26480263157894735,0.23645320197044334,0.22459016393442624,0.2765957446808511,0.25326797385620914,0.2561174551386623,0.26058631921824105,0.25853658536585367,0.2305194805194805,0.2787682333873582,0.26375404530744334,0.2520193861066236,0.25483870967741934,0.2560386473429952,0.24115755627009647,0.26003210272873195,0.24358974358974358,0.2496,0.268370607028754,0.23125996810207336,0.25477707006369427,0.2543720190779014,0.2650793650793651,0.24881141045958796,0.23734177215189872,0.2559241706161137,0.23974763406940064,0.2440944881889764,0.24056603773584906,0.27001569858712715,0.2727272727272727,0.26917057902973396,0.2421875,0.24492979719188768,0.2803738317757009,0.25038880248833595,0.2468944099378882,0.24031007751937986,0.26625386996904027,0.26738794435857804,0.24845679012345678,0.25115562403698,0.26461538461538464,0.2350230414746544,0.2561349693251534,0.26186830015313933,0.2599388379204893,0.2366412213740458,0.2606707317073171,0.2617960426179604,0.25987841945288753,0.2488619119878604,0.2681818181818182,0.22390317700453857,0.23716012084592145,0.23076923076923078,0.24849397590361447,0.24210526315789474,0.26426426426426425,0.22938530734632684,0.2410179640718563,0.22720478325859492,0.2507462686567164,0.2488822652757079,0.2261904761904762,0.2600297176820208,0.27002967359050445,0.24592592592592594,0.23372781065088757,0.23929098966026588,0.24188790560471976,0.2503681885125184,0.26176470588235295,0.23788546255506607,0.2316715542521994,0.232796486090776,0.22953216374269006,0.23503649635036497,0.2434402332361516,0.24890829694323144,0.2601744186046512,0.2757619738751814,0.2246376811594203,0.2590448625180897,0.22976878612716764,0.2597402597402597,0.2507204610951009,0.27482014388489207,0.22413793103448276,0.25968436154949787,0.25358166189111747,0.26895565092989987,0.23714285714285716,0.23680456490727533,0.23646723646723647,0.23470839260312945,0.25142045454545453,0.21560283687943263,0.26062322946175637,0.26025459688826025,0.24858757062146894,0.2524682651622003,0.24647887323943662,0.27285513361462727,0.2401685393258427,0.2917251051893408,0.26330532212885155,0.28251748251748254,0.25,0.25383542538354253,0.24233983286908078,0.24895688456189152,0.24305555555555555,0.2524271844660194,0.24653739612188366,0.24204702627939143,0.2776243093922652,0.22344827586206897,0.22176308539944903,0.24484181568088034,0.23763736263736263,0.25102880658436216,0.2273972602739726,0.2503419972640219,0.2581967213114754,0.26330150068212826,0.2779291553133515,0.24625850340136055,0.23097826086956522,0.2265943012211669,0.22764227642276422,0.2435723951285521,0.2648648648648649,0.26180836707152494,0.238544474393531,0.25841184387617766,0.2594086021505376,0.2550335570469799,0.24262734584450402,0.26104417670682734,0.2553475935828877,0.2616822429906542,0.24533333333333332,0.24900133155792276,0.25132978723404253,0.249667994687915,0.253315649867374,0.2423841059602649,0.2328042328042328,0.24966974900924702,0.27308707124010556,0.2595520421607378,0.25394736842105264,0.2536136662286465,0.2440944881889764,0.2162516382699869,0.2513089005235602,0.257516339869281,0.2506527415143603,0.23598435462842243,0.2552083333333333,0.2613784135240572,0.2506493506493506,0.24254215304798962,0.22797927461139897,0.2690815006468305,0.26356589147286824,0.24,0.24355670103092783,0.24581724581724582,0.2622107969151671,0.24775353016688062,0.2423076923076923,0.25096030729833546,0.27237851662404094,0.24776500638569604,0.24489795918367346,0.2267515923566879,0.23791348600508905,0.27064803049555275,0.2512690355329949,0.24968314321926488,0.25316455696202533,0.23767383059418457,0.24494949494949494,0.23833543505674654,0.24811083123425692,0.2389937106918239,0.23743718592964824,0.24968632371392724,0.23182957393483708,0.24030037546933666,0.2775,0.22846441947565543,0.2281795511221945,0.2752179327521793,0.24875621890547264,0.28695652173913044,0.25682382133995035,0.22800495662949194,0.2623762376237624,0.2558714462299135,0.22839506172839505,0.2872996300863132,0.2524630541871921,0.2521525215252153,0.2321867321867322,0.27607361963190186,0.2267156862745098,0.2350061199510404,0.24327628361858192,0.24297924297924298,0.25121951219512195,0.23751522533495736,0.26277372262773724,0.22964763061968407,0.2487864077669903,0.2690909090909091,0.2397094430992736,0.25755743651753327,0.2608695652173913,0.2376357056694813,0.2469879518072289,0.26233453670276774,0.23798076923076922,0.24489795918367346,0.25539568345323743,0.24311377245508983,0.25598086124401914,0.22580645161290322,0.24343675417661098,0.2300357568533969,0.225,0.25802615933412604,0.25415676959619954,0.269276393831554,0.2381516587677725,0.2272189349112426,0.2777777777777778,0.21841794569067297,0.25471698113207547,0.2308598351001178,0.24588235294117647,0.21269095182138661,0.2347417840375587,0.23329425556858147,0.22833723653395785,0.24912280701754386,0.25350467289719625,0.28004667444574094,0.2773892773892774,0.2467986030267753,0.25116279069767444,0.23577235772357724,0.25986078886310904,0.2607184241019699,0.25,0.26473988439306356,0.24133949191685913,0.2433679354094579,0.22926267281105991,0.24395857307249713,0.2517241379310345,0.25602755453501724,0.24426605504587157,0.24284077892325315,0.2379862700228833,0.22285714285714286,0.2420091324200913,0.24059293044469784,0.2505694760820046,0.23777019340159272,0.24431818181818182,0.23382519863791146,0.2619047619047619,0.2559456398640997,0.25678733031674206,0.22937853107344633,0.2325056433408578,0.24689966178128522,0.2668918918918919,0.2575928008998875,0.24044943820224718,0.25140291806958476,0.2141255605381166,0.24188129899216126,0.22930648769574943,0.24581005586592178,0.2421875,0.22965440356744704,0.24610244988864144,0.21690767519466073,0.24888888888888888,0.24750277469478357,0.26940133037694014,0.22812846068660023,0.2345132743362832,0.261878453038674,0.25165562913907286,0.237045203969129,0.2588105726872247,0.2629262926292629,0.2098901098901099,0.23380900109769484,0.2598684210526316,0.2847754654983571,0.24726477024070023,0.23060109289617486,0.2314410480349345,0.2748091603053435,0.30392156862745096,0.25571273122959737,0.2673913043478261,0.24104234527687296,0.24295010845986983,0.24593716143011918,0.23376623376623376,0.24864864864864866,0.24946004319654427,0.26105717367853293,0.25538793103448276,0.22927879440258342,0.24408602150537634,0.23308270676691728,0.26609442060085836,0.23258306538049303,0.2569593147751606,0.23850267379679144,0.26495726495726496,0.26040554962646745,0.2579957356076759,0.2747603833865815,0.2276595744680851,0.23804463336875664,0.23354564755838642,0.24602332979851538,0.2277542372881356,0.24761904761904763,0.2463002114164905,0.2682154171066526,0.25949367088607594,0.256059009483667,0.2463157894736842,0.2797055730809674,0.24684873949579833,0.2465897166841553,0.25681341719077566,0.24397905759162303,0.2824267782426778,0.2445141065830721,0.21816283924843424,0.2586027111574557,0.27291666666666664,0.23100936524453694,0.24116424116424118,0.24610591900311526,0.24688796680497926,0.2601036269430052,0.2639751552795031,0.23371251292657705,0.265495867768595,0.26109391124871,0.2443298969072165,0.24613800205973224,0.257201646090535,0.23638232271325796,0.24435318275154005,0.22153846153846155,0.26024590163934425,0.24564994882292732,0.2556237218813906,0.23493360572012256,0.2571428571428571,0.24974515800203873,0.2494908350305499,0.25940996948118006,0.24288617886178862,0.265989847715736,0.2484787018255578,0.2259371833839919,0.2479757085020243,0.23862487360970677,0.2494949494949495,0.22704339051463168,0.2620967741935484,0.2638469284994965,0.2283702213279678,0.2422110552763819,0.2520080321285141,0.2668004012036108,0.25551102204408815,0.25725725725725723]},\"selected\":{\"id\":\"1140\"},\"selection_policy\":{\"id\":\"1141\"}},\"id\":\"1122\",\"type\":\"ColumnDataSource\"},{\"attributes\":{\"text\":\"Simple Line Plot in Bokeh\"},\"id\":\"1090\",\"type\":\"Title\"},{\"attributes\":{},\"id\":\"1111\",\"type\":\"SaveTool\"},{\"attributes\":{\"axis\":{\"id\":\"1104\"},\"dimension\":1,\"ticker\":null},\"id\":\"1107\",\"type\":\"Grid\"},{\"attributes\":{\"axis_label\":\"Estimated Probability\",\"formatter\":{\"id\":\"1136\"},\"ticker\":{\"id\":\"1105\"}},\"id\":\"1104\",\"type\":\"LinearAxis\"},{\"attributes\":{},\"id\":\"1109\",\"type\":\"WheelZoomTool\"},{\"attributes\":{},\"id\":\"1101\",\"type\":\"BasicTicker\"},{\"attributes\":{\"line_color\":\"#1f77b4\",\"x\":{\"field\":\"x\"},\"y\":{\"field\":\"y\"}},\"id\":\"1123\",\"type\":\"Line\"},{\"attributes\":{\"data_source\":{\"id\":\"1122\"},\"glyph\":{\"id\":\"1123\"},\"hover_glyph\":null,\"muted_glyph\":null,\"nonselection_glyph\":{\"id\":\"1124\"},\"selection_glyph\":null,\"view\":{\"id\":\"1126\"}},\"id\":\"1125\",\"type\":\"GlyphRenderer\"},{\"attributes\":{\"source\":{\"id\":\"1122\"}},\"id\":\"1126\",\"type\":\"CDSView\"},{\"attributes\":{\"active_drag\":\"auto\",\"active_inspect\":\"auto\",\"active_multi\":null,\"active_scroll\":\"auto\",\"active_tap\":\"auto\",\"tools\":[{\"id\":\"1108\"},{\"id\":\"1109\"},{\"id\":\"1110\"},{\"id\":\"1111\"},{\"id\":\"1112\"},{\"id\":\"1113\"}]},\"id\":\"1115\",\"type\":\"Toolbar\"},{\"attributes\":{},\"id\":\"1113\",\"type\":\"HelpTool\"},{\"attributes\":{\"bottom_units\":\"screen\",\"fill_alpha\":0.5,\"fill_color\":\"lightgrey\",\"left_units\":\"screen\",\"level\":\"overlay\",\"line_alpha\":1.0,\"line_color\":\"black\",\"line_dash\":[4,4],\"line_width\":2,\"right_units\":\"screen\",\"top_units\":\"screen\"},\"id\":\"1114\",\"type\":\"BoxAnnotation\"},{\"attributes\":{\"axis\":{\"id\":\"1100\"},\"ticker\":null},\"id\":\"1103\",\"type\":\"Grid\"},{\"attributes\":{\"axis_label\":\"Number of Flips in Experiment\",\"formatter\":{\"id\":\"1138\"},\"ticker\":{\"id\":\"1101\"}},\"id\":\"1100\",\"type\":\"LinearAxis\"},{\"attributes\":{},\"id\":\"1092\",\"type\":\"DataRange1d\"},{\"attributes\":{},\"id\":\"1094\",\"type\":\"DataRange1d\"},{\"attributes\":{},\"id\":\"1098\",\"type\":\"LinearScale\"},{\"attributes\":{},\"id\":\"1140\",\"type\":\"Selection\"},{\"attributes\":{\"line_alpha\":0.1,\"line_color\":\"#1f77b4\",\"x\":{\"field\":\"x\"},\"y\":{\"field\":\"y\"}},\"id\":\"1124\",\"type\":\"Line\"},{\"attributes\":{},\"id\":\"1096\",\"type\":\"LinearScale\"}],\"root_ids\":[\"1089\"]},\"title\":\"Bokeh Application\",\"version\":\"2.2.3\"}};\n",
       "  var render_items = [{\"docid\":\"781b91fa-9df7-4544-8189-980cac37afb8\",\"root_ids\":[\"1089\"],\"roots\":{\"1089\":\"4e13c478-717a-4e07-ae91-78bc77b872cc\"}}];\n",
       "  root.Bokeh.embed.embed_items_notebook(docs_json, render_items);\n",
       "\n",
       "  }\n",
       "  if (root.Bokeh !== undefined) {\n",
       "    embed_document(root);\n",
       "  } else {\n",
       "    var attempts = 0;\n",
       "    var timer = setInterval(function(root) {\n",
       "      if (root.Bokeh !== undefined) {\n",
       "        clearInterval(timer);\n",
       "        embed_document(root);\n",
       "      } else {\n",
       "        attempts++;\n",
       "        if (attempts > 100) {\n",
       "          clearInterval(timer);\n",
       "          console.log(\"Bokeh: ERROR: Unable to run BokehJS code because BokehJS library is missing\");\n",
       "        }\n",
       "      }\n",
       "    }, 10, root)\n",
       "  }\n",
       "})(window);"
      ],
      "application/vnd.bokehjs_exec.v0+json": ""
     },
     "metadata": {
      "application/vnd.bokehjs_exec.v0+json": {
       "id": "1089"
      }
     },
     "output_type": "display_data"
    }
   ],
   "source": [
    "# Add a line renderer with legend and line thickness\n",
    "x = range(1, maximum_flips)\n",
    "p.line(x=x, y=probs)\n",
    "\n",
    "# Show the results\n",
    "show(p)"
   ]
  },
  {
   "cell_type": "code",
   "execution_count": null,
   "metadata": {},
   "outputs": [],
   "source": []
  },
  {
   "cell_type": "code",
   "execution_count": null,
   "metadata": {},
   "outputs": [],
   "source": []
  },
  {
   "cell_type": "code",
   "execution_count": null,
   "metadata": {},
   "outputs": [],
   "source": []
  },
  {
   "cell_type": "code",
   "execution_count": null,
   "metadata": {},
   "outputs": [],
   "source": []
  }
 ],
 "metadata": {
  "kernelspec": {
   "display_name": "Python 3",
   "language": "python",
   "name": "python3"
  },
  "language_info": {
   "codemirror_mode": {
    "name": "ipython",
    "version": 3
   },
   "file_extension": ".py",
   "mimetype": "text/x-python",
   "name": "python",
   "nbconvert_exporter": "python",
   "pygments_lexer": "ipython3",
   "version": "3.9.1"
  }
 },
 "nbformat": 4,
 "nbformat_minor": 4
}
