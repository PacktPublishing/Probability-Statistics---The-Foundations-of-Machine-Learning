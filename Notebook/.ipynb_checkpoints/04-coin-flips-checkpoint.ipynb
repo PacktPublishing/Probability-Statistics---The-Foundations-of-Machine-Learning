{
 "cells": [
  {
   "cell_type": "markdown",
   "metadata": {},
   "source": [
    "# Probability - Coin Flips and Experiments "
   ]
  },
  {
   "cell_type": "code",
   "execution_count": 1,
   "metadata": {},
   "outputs": [],
   "source": [
    "import matplotlib \n",
    "import matplotlib.pyplot as plt\n",
    "%matplotlib inline\n",
    "\n",
    "import numpy as np \n",
    "\n",
    "import seaborn as sns\n",
    "sns.set(color_codes=True)\n",
    "sns.set_style(\"white\")     # See more styling options here: https://seaborn.pydata.org/tutorial/aesthetics.html"
   ]
  },
  {
   "cell_type": "code",
   "execution_count": 8,
   "metadata": {},
   "outputs": [
    {
     "data": {
      "text/plain": [
       "0.2921493093953441"
      ]
     },
     "execution_count": 8,
     "metadata": {},
     "output_type": "execute_result"
    }
   ],
   "source": [
    "np.random.uniform(low=0.0, high=1.0)  "
   ]
  },
  {
   "cell_type": "code",
   "execution_count": 9,
   "metadata": {},
   "outputs": [],
   "source": [
    "# generate a 'flip'\n",
    "def flip(num = 1):\n",
    "    flips = [] \n",
    "    \n",
    "    for i in range(num): \n",
    "        num = np.random.uniform(low=0.0, high=1.0)      \n",
    "        if num > 0.5: \n",
    "            flips.append('H')             # should be doing yield here if you know 'generators'\n",
    "        else: \n",
    "            flips.append('T')\n",
    "    return flips"
   ]
  },
  {
   "cell_type": "code",
   "execution_count": 22,
   "metadata": {},
   "outputs": [
    {
     "data": {
      "text/plain": [
       "['H']"
      ]
     },
     "execution_count": 22,
     "metadata": {},
     "output_type": "execute_result"
    }
   ],
   "source": [
    "flip()"
   ]
  },
  {
   "cell_type": "code",
   "execution_count": 23,
   "metadata": {},
   "outputs": [
    {
     "name": "stdout",
     "output_type": "stream",
     "text": [
      "['H', 'H', 'H', 'H', 'T', 'T', 'H', 'H', 'H', 'H']\n"
     ]
    }
   ],
   "source": [
    "flips = flip(10) \n",
    "print(flips)"
   ]
  },
  {
   "cell_type": "code",
   "execution_count": 24,
   "metadata": {},
   "outputs": [],
   "source": [
    "values, counts = np.unique(flips, return_counts=True)"
   ]
  },
  {
   "cell_type": "code",
   "execution_count": 25,
   "metadata": {},
   "outputs": [
    {
     "data": {
      "text/plain": [
       "(array(['H', 'T'], dtype='<U1'), array([8, 2]))"
      ]
     },
     "execution_count": 25,
     "metadata": {},
     "output_type": "execute_result"
    }
   ],
   "source": [
    "values, counts"
   ]
  },
  {
   "cell_type": "markdown",
   "metadata": {},
   "source": [
    "## Repdoducible 'Randomness' "
   ]
  },
  {
   "cell_type": "code",
   "execution_count": 43,
   "metadata": {},
   "outputs": [],
   "source": [
    "# computers are 'deterministic'. You can not do 'random' in computers! \n",
    "# So, you start with some 'seed' then do deterministic things \n",
    "# this is called pseudo-randomness \n",
    "\n",
    "# sometimes you want to suppress this! \n",
    "\n",
    "np.random.seed(1337)   # random numbers and seed "
   ]
  },
  {
   "cell_type": "code",
   "execution_count": 46,
   "metadata": {},
   "outputs": [
    {
     "data": {
      "text/plain": [
       "0.6027633760716439"
      ]
     },
     "execution_count": 46,
     "metadata": {},
     "output_type": "execute_result"
    }
   ],
   "source": [
    "np.random.uniform(low=0.0, high=1.0)  "
   ]
  },
  {
   "cell_type": "code",
   "execution_count": null,
   "metadata": {},
   "outputs": [],
   "source": [
    "import matplotlib \n",
    "import matplotlib.pyplot as plt\n",
    "%matplotlib inline\n",
    "\n",
    "import numpy as np \n",
    "\n",
    "import seaborn as sns\n",
    "sns.set(color_codes=True)\n",
    "sns.set_style(\"white\")     # See more styling options here: https://seaborn.pydata.org/tutorial/aesthetics.html\n",
    "\n",
    "\n",
    "np.random.seed(1337)   # random numbers and seed \n",
    "\n",
    "\n",
    "# generate a 'flip'\n",
    "def flip(num = 1):\n",
    "    flips = [] \n",
    "    \n",
    "    for i in range(num): \n",
    "        num = np.random.uniform(low=0.0, high=1.0)      \n",
    "        if num > 0.5: \n",
    "            flips.append('H')             # should be doing yield here if you know 'generators'\n",
    "        else: \n",
    "            flips.append('T')\n",
    "    return flips\n",
    "\n",
    "\n",
    "# Flip \n",
    "flips = flip(10) \n",
    "values, counts = np.unique(flips, return_counts=True)\n",
    "\n",
    "# print values/stats\n",
    "# print(flip())\n",
    "print(flips)\n",
    "print(values, counts)"
   ]
  },
  {
   "cell_type": "markdown",
   "metadata": {},
   "source": [
    "## Probability of Flips "
   ]
  },
  {
   "cell_type": "code",
   "execution_count": null,
   "metadata": {},
   "outputs": [],
   "source": [
    "from collections import Counter, defaultdict \n",
    "\n",
    "\n",
    "def get_freqs(flips): \n",
    "    counter = Counter(flips)\n",
    "    \n",
    "    return dict(counter)     # bug: what if there are no 'H' or no 'T'\n",
    "\n",
    "    # return defaultdict(int, counter)"
   ]
  },
  {
   "cell_type": "code",
   "execution_count": null,
   "metadata": {},
   "outputs": [],
   "source": [
    "flips"
   ]
  },
  {
   "cell_type": "code",
   "execution_count": null,
   "metadata": {},
   "outputs": [],
   "source": [
    "freqs = get_freqs(flips)\n",
    "print(freqs)"
   ]
  },
  {
   "cell_type": "code",
   "execution_count": null,
   "metadata": {},
   "outputs": [],
   "source": [
    "prob_h = freqs['H'] / len(flips)\n",
    "print(prob_h)"
   ]
  },
  {
   "cell_type": "markdown",
   "metadata": {},
   "source": [
    "## Experiment: Prob calculated based on 1 flip upto N flips "
   ]
  },
  {
   "cell_type": "code",
   "execution_count": null,
   "metadata": {},
   "outputs": [],
   "source": [
    "maximum_flips = 1000\n",
    "\n",
    "probs = [] \n",
    "for num_flips in range(1, maximum_flips):\n",
    "    flips = flip(num_flips)\n",
    "    freqs = get_freqs(flips)\n",
    "    prob_h = freqs['H'] / len(flips)\n",
    "\n",
    "    probs.append(prob_h)\n",
    "    \n",
    "# print(probs)"
   ]
  },
  {
   "cell_type": "code",
   "execution_count": null,
   "metadata": {},
   "outputs": [],
   "source": [
    "print(freqs)"
   ]
  },
  {
   "cell_type": "code",
   "execution_count": null,
   "metadata": {},
   "outputs": [],
   "source": [
    "plt.plot(probs)\n",
    "plt.ylabel('Estimated Probability')\n",
    "plt.xlabel('Number of Flips in Experiment');\n",
    "plt.title(\"Calculating Probability over Number of Flips\")\n",
    "sns.despine(offset=10, trim=True);  # move axes away \n",
    "plt.show()"
   ]
  },
  {
   "cell_type": "code",
   "execution_count": null,
   "metadata": {},
   "outputs": [],
   "source": [
    "plt.plot(probs[:10])\n",
    "plt.ylabel('Estimated Probability')\n",
    "plt.xlabel('Number of Flips in Experiment');\n",
    "plt.title(\"Calculating Probability over Number of Flips\")\n",
    "sns.despine(offset=10, trim=True);  # move axes away \n",
    "plt.show()"
   ]
  },
  {
   "cell_type": "code",
   "execution_count": null,
   "metadata": {},
   "outputs": [],
   "source": [
    "plt.plot(probs[maximum_flips-10:])\n",
    "plt.ylabel('Estimated Probability')\n",
    "plt.xlabel('Number of Flips in Experiment');\n",
    "plt.title(\"Calculating Probability over Number of Flips\")\n",
    "sns.despine(offset=10, trim=True);  # move axes away \n",
    "plt.show()"
   ]
  },
  {
   "cell_type": "markdown",
   "metadata": {},
   "source": [
    "## Bokeh For Interactive Plots "
   ]
  },
  {
   "cell_type": "code",
   "execution_count": null,
   "metadata": {},
   "outputs": [],
   "source": [
    "!pip install bokeh"
   ]
  },
  {
   "cell_type": "code",
   "execution_count": null,
   "metadata": {},
   "outputs": [],
   "source": [
    "from bokeh.io import show, output_notebook\n",
    "from bokeh.plotting import figure\n",
    "\n",
    "output_notebook()"
   ]
  },
  {
   "cell_type": "code",
   "execution_count": null,
   "metadata": {},
   "outputs": [],
   "source": [
    "p = figure(title=\"Simple Line Plot in Bokeh\", \n",
    "           x_axis_label='Number of Flips in Experiment', \n",
    "           y_axis_label='Estimated Probability', \n",
    "           plot_width=580, plot_height=380)"
   ]
  },
  {
   "cell_type": "code",
   "execution_count": null,
   "metadata": {},
   "outputs": [],
   "source": [
    "# Add a line renderer with legend and line thickness\n",
    "x = range(1, maximum_flips)\n",
    "p.line(x=x, y=probs)\n",
    "\n",
    "# Show the results\n",
    "show(p)"
   ]
  },
  {
   "cell_type": "code",
   "execution_count": null,
   "metadata": {},
   "outputs": [],
   "source": []
  }
 ],
 "metadata": {
  "kernelspec": {
   "display_name": "Python 3",
   "language": "python",
   "name": "python3"
  },
  "language_info": {
   "codemirror_mode": {
    "name": "ipython",
    "version": 3
   },
   "file_extension": ".py",
   "mimetype": "text/x-python",
   "name": "python",
   "nbconvert_exporter": "python",
   "pygments_lexer": "ipython3",
   "version": "3.9.1"
  }
 },
 "nbformat": 4,
 "nbformat_minor": 4
}
