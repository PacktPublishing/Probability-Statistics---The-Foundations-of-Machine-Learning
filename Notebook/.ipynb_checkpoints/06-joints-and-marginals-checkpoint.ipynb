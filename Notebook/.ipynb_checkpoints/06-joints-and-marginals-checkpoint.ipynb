{
 "cells": [
  {
   "cell_type": "markdown",
   "metadata": {},
   "source": [
    "# Distributions, Contours and Everything Else"
   ]
  },
  {
   "cell_type": "code",
   "execution_count": null,
   "metadata": {},
   "outputs": [],
   "source": [
    "import numpy as np\n",
    "np.random.seed(1337)"
   ]
  },
  {
   "cell_type": "code",
   "execution_count": null,
   "metadata": {},
   "outputs": [],
   "source": [
    "import matplotlib.pyplot as plt\n",
    "from mpl_toolkits.mplot3d import Axes3D\n",
    "\n",
    "%matplotlib inline\n",
    "plt.style.use('ggplot')"
   ]
  },
  {
   "cell_type": "code",
   "execution_count": null,
   "metadata": {},
   "outputs": [],
   "source": [
    "num_bins = 5  # number of bins in each dimension  Try: 5, 20, 50, 500 \n",
    "num_samples = 10000000\n",
    "\n",
    "data = 100 + 10 * np.random.randn(num_samples, 2)  # generate 100000 2-d random data points\n",
    "joint_probs, edges = np.histogramdd(data, bins=num_bins)\n",
    "\n",
    "edges = np.array(edges)[:,1:]"
   ]
  },
  {
   "cell_type": "code",
   "execution_count": null,
   "metadata": {},
   "outputs": [],
   "source": [
    "print(edges) "
   ]
  },
  {
   "cell_type": "code",
   "execution_count": null,
   "metadata": {},
   "outputs": [],
   "source": [
    "joint_probs.shape"
   ]
  },
  {
   "cell_type": "code",
   "execution_count": null,
   "metadata": {},
   "outputs": [],
   "source": [
    "joint_probs"
   ]
  },
  {
   "cell_type": "code",
   "execution_count": null,
   "metadata": {},
   "outputs": [],
   "source": [
    "cut_point = 2\n",
    "\n",
    "\n",
    "X_vals = np.array( joint_probs[cut_point] )     \n",
    "X_vals /= X_vals.sum() \n",
    "\n",
    "# Brain twister: why do we need the cast to np array here? \n",
    "# Hint: Leads to a HUGE bug in analysis if you don't. Can you figure out why? \n",
    "\n",
    "# Try to figure it out. If you can't post in the Q&A and we will discuss  ***** \n",
    "\n",
    "Y_vals = np.array( joint_probs[:, cut_point]  ) \n",
    "Y_vals /= Y_vals.sum()\n",
    "\n",
    "print(\"Cut X and Y on: \", cut_point)"
   ]
  },
  {
   "cell_type": "code",
   "execution_count": null,
   "metadata": {},
   "outputs": [],
   "source": [
    "print(edges[0])\n",
    "print(X_vals)\n",
    "print(Y_vals)"
   ]
  },
  {
   "cell_type": "code",
   "execution_count": null,
   "metadata": {},
   "outputs": [],
   "source": [
    "plt.bar(edges[0], X_vals)   #       \n",
    "plt.ylabel('Frequency')\n",
    "plt.xlabel('Num');\n",
    "plt.title(\"Distribution of X_vals\")\n",
    "plt.show()"
   ]
  },
  {
   "cell_type": "code",
   "execution_count": null,
   "metadata": {},
   "outputs": [],
   "source": [
    "plt.bar(edges[1], Y_vals)   #       \n",
    "plt.ylabel('Frequency')\n",
    "plt.xlabel('Num');\n",
    "plt.title(\"Distribution of Y_vals\")\n",
    "plt.show()"
   ]
  },
  {
   "cell_type": "code",
   "execution_count": null,
   "metadata": {},
   "outputs": [],
   "source": [
    "X = edges[0]\n",
    "Y = edges[1]\n",
    "X, Y = np.meshgrid(X, Y)\n",
    "\n",
    "Z = joint_probs / joint_probs.sum()"
   ]
  },
  {
   "cell_type": "code",
   "execution_count": null,
   "metadata": {},
   "outputs": [],
   "source": [
    "fig = plt.figure()\n",
    "ax = plt.axes(projection='3d')\n",
    "\n",
    "ax.plot_surface(X, Y, Z, rstride=1, cstride=1, cmap='viridis')\n",
    "\n",
    "ax.view_init(45, 30)\n",
    "ax.set_xlabel('x')\n",
    "ax.set_ylabel('y')\n",
    "ax.set_zlabel('z');"
   ]
  },
  {
   "cell_type": "code",
   "execution_count": null,
   "metadata": {},
   "outputs": [],
   "source": [
    "fig,ax = plt.subplots(1,1)\n",
    "cp = ax.contourf(X, Y, Z)\n",
    "fig.colorbar(cp) # Add a colorbar to a plot\n",
    "ax.set_title('Contour Plot')\n",
    "ax.set_xlabel('X')\n",
    "ax.set_ylabel('Y')\n",
    "plt.show()"
   ]
  },
  {
   "cell_type": "markdown",
   "metadata": {},
   "source": [
    "## Dependence in Joints"
   ]
  },
  {
   "cell_type": "code",
   "execution_count": null,
   "metadata": {},
   "outputs": [],
   "source": [
    "import numpy as np\n",
    "\n",
    "num_bins = 50   \n",
    "num_samples = 10000\n",
    "\n",
    "# Don't have to understand exactly how these values are being generated \n",
    "mean = [0, 0]\n",
    "cov =  [[1, 0.8], \n",
    "        [0.8, 1.0]]  # diagonal covariance\n",
    "\n",
    "data = 100 + 10 * np.random.multivariate_normal(mean, cov, num_samples)\n",
    "joint_probs, edges = np.histogramdd(data, bins=num_bins)\n",
    "\n",
    "\n",
    "edges = np.array(edges)[:,1:]\n",
    "print(joint_probs)"
   ]
  },
  {
   "cell_type": "code",
   "execution_count": null,
   "metadata": {},
   "outputs": [],
   "source": [
    "cut_point = 14    # try 9, 2 and 14 \n",
    "\n",
    "X_vals = np.array(joint_probs[cut_point])\n",
    "X_vals /= X_vals.sum() \n",
    "\n",
    "Y_vals = np.array( joint_probs[:, cut_point]  ) \n",
    "Y_vals /= Y_vals.sum()\n",
    "\n",
    "print(\"Cut X and Y on: \", cut_point)"
   ]
  },
  {
   "cell_type": "code",
   "execution_count": null,
   "metadata": {},
   "outputs": [],
   "source": [
    "plt.bar(edges[0], X_vals)   #       \n",
    "plt.ylabel('Frequency')\n",
    "plt.xlabel('Num');\n",
    "plt.title(\"Distribution of X_vals\")\n",
    "plt.show()"
   ]
  },
  {
   "cell_type": "code",
   "execution_count": null,
   "metadata": {},
   "outputs": [],
   "source": [
    "# plt.bar(edges[1], Y_vals)   #       Let's not do this for Y right now \n",
    "# plt.ylabel('Frequency')\n",
    "# plt.xlabel('Num');\n",
    "# plt.title(\"Distribution of Y_vals\")\n",
    "# plt.show()"
   ]
  },
  {
   "cell_type": "code",
   "execution_count": null,
   "metadata": {},
   "outputs": [],
   "source": [
    "X = edges[0]\n",
    "Y = edges[1]\n",
    "X, Y = np.meshgrid(X, Y)\n",
    "\n",
    "Z = joint_probs / joint_probs.sum()"
   ]
  },
  {
   "cell_type": "code",
   "execution_count": null,
   "metadata": {},
   "outputs": [],
   "source": [
    "fig = plt.figure(figsize=(9, 6))\n",
    "ax = plt.axes(projection='3d')\n",
    "\n",
    "ax.plot_surface(X, Y, Z, rstride=1, cstride=1, cmap='viridis')\n",
    "\n",
    "ax.view_init(60, 75)\n",
    "ax.set_xlabel('x')\n",
    "ax.set_ylabel('y')\n",
    "ax.set_zlabel('z');"
   ]
  },
  {
   "cell_type": "code",
   "execution_count": null,
   "metadata": {},
   "outputs": [],
   "source": [
    "fig,ax = plt.subplots(1,1)\n",
    "cp = ax.contourf(X, Y, Z)\n",
    "fig.colorbar(cp) # Add a colorbar to a plot\n",
    "ax.set_title('Contour Plot')\n",
    "ax.set_xlabel('X')\n",
    "ax.set_ylabel('Y')\n",
    "plt.show()"
   ]
  },
  {
   "cell_type": "code",
   "execution_count": null,
   "metadata": {},
   "outputs": [],
   "source": []
  },
  {
   "cell_type": "code",
   "execution_count": null,
   "metadata": {},
   "outputs": [],
   "source": []
  }
 ],
 "metadata": {
  "kernelspec": {
   "display_name": "Python 3",
   "language": "python",
   "name": "python3"
  },
  "language_info": {
   "codemirror_mode": {
    "name": "ipython",
    "version": 3
   },
   "file_extension": ".py",
   "mimetype": "text/x-python",
   "name": "python",
   "nbconvert_exporter": "python",
   "pygments_lexer": "ipython3",
   "version": "3.9.1"
  }
 },
 "nbformat": 4,
 "nbformat_minor": 4
}
