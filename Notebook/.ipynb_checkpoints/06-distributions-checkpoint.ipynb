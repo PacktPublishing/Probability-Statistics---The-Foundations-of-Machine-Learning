{
 "cells": [
  {
   "cell_type": "markdown",
   "metadata": {},
   "source": [
    "# Distributions "
   ]
  },
  {
   "cell_type": "code",
   "execution_count": 1,
   "metadata": {},
   "outputs": [],
   "source": [
    "import matplotlib.pyplot as plt\n",
    "%matplotlib inline\n",
    "\n",
    "import seaborn as sns\n",
    "sns.set(color_codes=True)"
   ]
  },
  {
   "cell_type": "markdown",
   "metadata": {},
   "source": [
    "## Bernoulli Distribution "
   ]
  },
  {
   "cell_type": "code",
   "execution_count": 2,
   "metadata": {},
   "outputs": [],
   "source": [
    "from scipy.stats import bernoulli"
   ]
  },
  {
   "cell_type": "code",
   "execution_count": 3,
   "metadata": {},
   "outputs": [
    {
     "data": {
      "text/plain": [
       "[Text(0.5, 0, 'Bernoulli Distribution '), Text(0, 0.5, 'Frequency')]"
      ]
     },
     "execution_count": 3,
     "metadata": {},
     "output_type": "execute_result"
    },
    {
     "data": {
      "image/png": "[encoded data removed]",
      "text/plain": [
       "<Figure size 432x288 with 1 Axes>"
      ]
     },
     "metadata": {},
     "output_type": "display_data"
    }
   ],
   "source": [
    "data_bern = bernoulli.rvs(size=10000, p=0.6)\n",
    "\n",
    "ax = sns.distplot(data_bern,\n",
    "                  bins=100,\n",
    "                  kde=False,\n",
    "                 )\n",
    "ax.set(xlabel='Bernoulli Distribution ', ylabel='Frequency')"
   ]
  },
  {
   "cell_type": "markdown",
   "metadata": {},
   "source": [
    "## Binomial Distribution "
   ]
  },
  {
   "cell_type": "code",
   "execution_count": 4,
   "metadata": {},
   "outputs": [],
   "source": [
    "from scipy.stats import binom"
   ]
  },
  {
   "cell_type": "code",
   "execution_count": 5,
   "metadata": {},
   "outputs": [
    {
     "data": {
      "image/png": "[encoded data removed]",
      "text/plain": [
       "<Figure size 432x288 with 1 Axes>"
      ]
     },
     "metadata": {},
     "output_type": "display_data"
    }
   ],
   "source": [
    "data_binom = binom.rvs(n=10, p=0.6, size=1000)\n",
    "ax = sns.distplot(data_binom,\n",
    "                  bins=100,\n",
    "                  kde=False,\n",
    "                 )\n",
    "_ = ax.set(xlabel='Binomial Distribution ', ylabel='Frequency')"
   ]
  },
  {
   "cell_type": "markdown",
   "metadata": {},
   "source": [
    "## Poisson Distribution "
   ]
  },
  {
   "cell_type": "code",
   "execution_count": 6,
   "metadata": {},
   "outputs": [],
   "source": [
    "from scipy.stats import poisson"
   ]
  },
  {
   "cell_type": "code",
   "execution_count": 9,
   "metadata": {},
   "outputs": [
    {
     "data": {
      "text/plain": [
       "[Text(0.5, 0, 'Poisson Distribution '), Text(0, 0.5, 'Frequency')]"
      ]
     },
     "execution_count": 9,
     "metadata": {},
     "output_type": "execute_result"
    },
    {
     "data": {
      "image/png": "[encoded data removed]",
      "text/plain": [
       "<Figure size 432x288 with 1 Axes>"
      ]
     },
     "metadata": {},
     "output_type": "display_data"
    }
   ],
   "source": [
    "data_poisson = poisson.rvs(mu=20, size=10000)\n",
    "ax = sns.distplot(data_poisson,\n",
    "                  bins=50,\n",
    "                  kde=False,\n",
    "                 )\n",
    "ax.set(xlabel='Poisson Distribution ', ylabel='Frequency')"
   ]
  },
  {
   "cell_type": "markdown",
   "metadata": {},
   "source": [
    "# Continuous Distributions "
   ]
  },
  {
   "cell_type": "markdown",
   "metadata": {},
   "source": [
    "## Uniform Distribution "
   ]
  },
  {
   "cell_type": "code",
   "execution_count": null,
   "metadata": {},
   "outputs": [],
   "source": [
    "from scipy.stats import uniform"
   ]
  },
  {
   "cell_type": "code",
   "execution_count": null,
   "metadata": {},
   "outputs": [],
   "source": [
    "n = 10000   \n",
    "# n *= 100 \n",
    "\n",
    "start = 10\n",
    "width = 20\n",
    "\n",
    "data_uniform = uniform.rvs(size=n, loc = start, scale=width)\n",
    "\n",
    "ax = sns.distplot(data_uniform,\n",
    "                  bins=100,\n",
    "                  kde=False,\n",
    "                 )\n",
    "ax.set(xlabel='Uniform Distribution ', ylabel='Frequency')"
   ]
  },
  {
   "cell_type": "markdown",
   "metadata": {},
   "source": [
    "# Normal Distribution / Gaussian distribution"
   ]
  },
  {
   "cell_type": "code",
   "execution_count": null,
   "metadata": {},
   "outputs": [],
   "source": [
    "from scipy.stats import norm"
   ]
  },
  {
   "cell_type": "code",
   "execution_count": null,
   "metadata": {},
   "outputs": [],
   "source": [
    "data_normal = norm.rvs(size=10000, loc=0, scale=1)\n",
    "\n",
    "\n",
    "ax = sns.distplot(data_normal,\n",
    "                  bins=100,\n",
    "                  kde=True,\n",
    "                 )\n",
    "plt.xlim(-10, 10)\n",
    "_ = ax.set(xlabel='Standard Normal Distribution ', ylabel='Frequency')"
   ]
  },
  {
   "cell_type": "code",
   "execution_count": null,
   "metadata": {},
   "outputs": [],
   "source": [
    "data_normal = norm.rvs(size=10000, loc=2, scale=2)\n",
    "\n",
    "ax = sns.distplot(data_normal,\n",
    "                  bins=100,\n",
    "                  kde=True,\n",
    "                 )\n",
    "plt.xlim(-10, 10)\n",
    "ax.set(xlabel='Normal Distribution ', ylabel='Frequency')"
   ]
  },
  {
   "cell_type": "markdown",
   "metadata": {},
   "source": [
    "## Exponential Distribution "
   ]
  },
  {
   "cell_type": "code",
   "execution_count": null,
   "metadata": {},
   "outputs": [],
   "source": [
    "from scipy.stats import expon"
   ]
  },
  {
   "cell_type": "code",
   "execution_count": null,
   "metadata": {},
   "outputs": [],
   "source": [
    "data_expon = expon.rvs(scale=1,loc=0,size=1000)\n",
    "\n",
    "ax = sns.distplot(data_expon,\n",
    "                  bins=100,\n",
    "                  kde=True,\n",
    "                 )\n",
    "# plt.xlim(-10, 10)\n",
    "ax.set(xlabel='Exponential Distribution ', ylabel='Frequency')"
   ]
  },
  {
   "cell_type": "markdown",
   "metadata": {},
   "source": [
    "## Beta Disribution "
   ]
  },
  {
   "cell_type": "code",
   "execution_count": null,
   "metadata": {},
   "outputs": [],
   "source": [
    "from scipy.stats import beta"
   ]
  },
  {
   "cell_type": "code",
   "execution_count": null,
   "metadata": {},
   "outputs": [],
   "source": [
    "data_beta = beta.rvs(a=5.7, b=1.627, size=1000)\n",
    "\n",
    "ax = sns.distplot(data_beta,\n",
    "                  bins=100,\n",
    "                  kde=True,\n",
    "                 )\n",
    "# plt.xlim(-10, 10)\n",
    "_= ax.set(xlabel='Exponential Distribution ', ylabel='Frequency')"
   ]
  },
  {
   "cell_type": "code",
   "execution_count": null,
   "metadata": {},
   "outputs": [],
   "source": [
    "# Slightly advanced but very goood article on Beta disribution: \n",
    "# https://towardsdatascience.com/beta-distribution-intuition-examples-and-derivation-cf00f4db57af "
   ]
  },
  {
   "cell_type": "markdown",
   "metadata": {},
   "source": [
    "# Bayesian Inference and Continuous Distributions "
   ]
  },
  {
   "cell_type": "markdown",
   "metadata": {},
   "source": [
    "## Sleep Data Analysis "
   ]
  },
  {
   "cell_type": "code",
   "execution_count": null,
   "metadata": {},
   "outputs": [],
   "source": [
    "# Case study source: https://github.com/WillKoehrsen/ai-projects/blob/master/bayesian_inference/bayes_rule_applied.ipynb \n",
    "\n",
    "import numpy as np\n",
    "import pandas as pd\n",
    "from IPython.core.pylabtools import figsize\n",
    "\n",
    "figsize(16, 6)"
   ]
  },
  {
   "cell_type": "code",
   "execution_count": null,
   "metadata": {},
   "outputs": [],
   "source": [
    "# Data formatted in different notebook\n",
    "sleep_data = pd.read_csv('data/sleep_data.csv')\n",
    "\n",
    "# Labels for plotting\n",
    "sleep_labels = ['9:00', '9:30', '10:00', '10:30', '11:00', '11:30', '12:00']\n",
    "\n",
    "# Sleep data\n",
    "plt.scatter(sleep_data['time_offset'], sleep_data['indicator'], \n",
    "            s= 60, alpha=0.01, facecolor = 'b', edgecolors='b')\n",
    "plt.yticks([0, 1], ['Awake', 'Asleep']); plt.xlabel('PM Time'); \n",
    "plt.title('Falling Asleep Data', size = 18)\n",
    "plt.xticks([-60, -30, 0, 30, 60, 90, 120], sleep_labels);"
   ]
  },
  {
   "cell_type": "code",
   "execution_count": null,
   "metadata": {},
   "outputs": [],
   "source": [
    "sleep_data.head()"
   ]
  },
  {
   "cell_type": "code",
   "execution_count": null,
   "metadata": {},
   "outputs": [],
   "source": [
    "# Sort the values by time offset\n",
    "sleep_data.sort_values('time_offset', inplace=True)\n",
    "\n",
    "# Time is the time offset\n",
    "time = np.array(sleep_data.loc[:, 'time_offset'])\n",
    "\n",
    "# Observations are the indicator\n",
    "sleep_obs = np.array(sleep_data.loc[:, 'indicator'])"
   ]
  },
  {
   "cell_type": "code",
   "execution_count": null,
   "metadata": {},
   "outputs": [],
   "source": [
    "sleep_data.head()"
   ]
  },
  {
   "cell_type": "code",
   "execution_count": null,
   "metadata": {},
   "outputs": [],
   "source": [
    "sleep_data.tail()"
   ]
  },
  {
   "cell_type": "code",
   "execution_count": null,
   "metadata": {},
   "outputs": [],
   "source": [
    "time"
   ]
  },
  {
   "cell_type": "code",
   "execution_count": null,
   "metadata": {},
   "outputs": [],
   "source": [
    "sleep_obs"
   ]
  },
  {
   "cell_type": "code",
   "execution_count": null,
   "metadata": {},
   "outputs": [],
   "source": [
    "sleep_obs[3260:3275]"
   ]
  },
  {
   "cell_type": "code",
   "execution_count": null,
   "metadata": {},
   "outputs": [],
   "source": [
    "sleep_data.loc[sleep_data['time_offset'] == 0]\n"
   ]
  },
  {
   "cell_type": "markdown",
   "metadata": {},
   "source": [
    "## Calculating Probability at a Particular Time "
   ]
  },
  {
   "cell_type": "code",
   "execution_count": null,
   "metadata": {},
   "outputs": [],
   "source": [
    "time_offset = 15"
   ]
  },
  {
   "cell_type": "code",
   "execution_count": null,
   "metadata": {},
   "outputs": [],
   "source": [
    "awake_vals = sleep_data.loc[(sleep_data['time_offset'] == time_offset) \n",
    "                            & (sleep_data['indicator'] == 0)]"
   ]
  },
  {
   "cell_type": "code",
   "execution_count": null,
   "metadata": {},
   "outputs": [],
   "source": [
    "sleep_vals = sleep_data.loc[(sleep_data['time_offset'] == time_offset) \n",
    "                            & (sleep_data['indicator'] == 1)]"
   ]
  },
  {
   "cell_type": "code",
   "execution_count": null,
   "metadata": {},
   "outputs": [],
   "source": [
    "print(len(sleep_vals), len(awake_vals))"
   ]
  },
  {
   "cell_type": "code",
   "execution_count": null,
   "metadata": {},
   "outputs": [],
   "source": [
    "p_sleep_at_offset = len(sleep_vals) / (len(sleep_vals) + len(awake_vals))\n",
    "print(p_sleep_at_offset)"
   ]
  },
  {
   "cell_type": "markdown",
   "metadata": {},
   "source": [
    "## Calculating the Prior "
   ]
  },
  {
   "cell_type": "code",
   "execution_count": null,
   "metadata": {},
   "outputs": [],
   "source": [
    "# Logistic Parameters from Markov Chain Monte Carlo Notebook - Don't have to understand how got this, for now\n",
    "alpha = 0.977400\n",
    "beta = -0.067270\n",
    "\n",
    "def calculate_prior(time, alpha, beta):\n",
    "    p = 1.0 / (1.0 + np.exp(np.dot(beta, time) + alpha))\n",
    "    return p\n",
    "\n",
    "# Done using some other method here but in essence, it's the same as above. This other method works even if you have little data. \n",
    "time_est = np.linspace(time.min()- 5, time.max() + 5, 1000)[:, None]\n",
    "\n",
    "# Probability at each time using mean values of alpha and beta\n",
    "sleep_est = calculate_prior(time_est, alpha, beta)"
   ]
  },
  {
   "cell_type": "code",
   "execution_count": null,
   "metadata": {},
   "outputs": [],
   "source": [
    "plt.plot(time_est, sleep_est, color = 'green', \n",
    "         lw=1, label=\"Model\")\n",
    "plt.scatter(time, sleep_obs, edgecolor = 'navy',\n",
    "            s=10, alpha=0.1, label='Observations')\n",
    "plt.title('Prior Probability Distribution for Sleep as Function of Time');\n",
    "plt.legend()\n",
    "plt.ylabel('Probability')\n",
    "plt.xlabel('PM Time');\n",
    "plt.xticks([-60, -30, 0, 30, 60, 90, 120], sleep_labels);"
   ]
  },
  {
   "cell_type": "code",
   "execution_count": null,
   "metadata": {},
   "outputs": [],
   "source": [
    "# Mini quiz: What type of distribution is this? "
   ]
  },
  {
   "cell_type": "code",
   "execution_count": null,
   "metadata": {},
   "outputs": [],
   "source": [
    "print('The probability of sleep increases to above 50% at 10:{} PM.\\n'.format(\n",
    "          int(time_est[np.where(sleep_est > 0.5)[0][0]][0])\n",
    "        )\n",
    "     )\n",
    "\n",
    "print('9:30  PM probability of being asleep: {:.2f}%.'.\n",
    "      format(100 * calculate_prior(-30, alpha, beta)))\n",
    "print('10:00 PM probability of being asleep: {:.2f}%.'.\n",
    "      format(100 * calculate_prior(0, alpha, beta)))\n",
    "print('10:30 PM probability of being asleep: {:.2f}%.'.\n",
    "      format(100 * calculate_prior(15, alpha, beta)))"
   ]
  },
  {
   "cell_type": "markdown",
   "metadata": {},
   "source": [
    "## Bayes Update on Distributions"
   ]
  },
  {
   "cell_type": "code",
   "execution_count": null,
   "metadata": {},
   "outputs": [],
   "source": [
    "# likelihoods\n",
    "\n",
    "# P(light | sleep)\n",
    "light_sleep = 0.01\n",
    "\n",
    "# P(-light | sleep)\n",
    "nolight_sleep = 0.99\n",
    "\n",
    "# P(light | -sleep)\n",
    "light_nosleep = 0.8\n",
    "\n",
    "# P(-light | -sleep)\n",
    "nolight_nosleep = 0.2"
   ]
  },
  {
   "cell_type": "code",
   "execution_count": null,
   "metadata": {},
   "outputs": [],
   "source": [
    "def update_probability(time_offset, light):\n",
    "    # Calculate the prior for the time\n",
    "    prior_probability = calculate_prior(time_offset, alpha, beta)\n",
    "    \n",
    "    # Account for evidence\n",
    "    if light == 0:\n",
    "        likelihood = nolight_sleep\n",
    "        non_likelihood = nolight_nosleep\n",
    "    elif light == 1:\n",
    "        likelihood = light_sleep\n",
    "        non_likelihood = light_nosleep\n",
    "        \n",
    "    # rewrite in terms of Bayes rule\n",
    "    numerator = likelihood * prior_probability\n",
    "    denominator = (likelihood * prior_probability) + (non_likelihood * (1 - prior_probability))\n",
    "    \n",
    "    conditional_probability = numerator / denominator\n",
    "    \n",
    "    \n",
    "    if type(time_offset) == int:\n",
    "        time = datetime.datetime(2017, 1, 1, 10, 0, 0)\n",
    "        new_time = str((time + datetime. timedelta(minutes = time_offset)).time())\n",
    "                       \n",
    "        print('Time: {} PM \\nLight is {}.'.format(new_time, \"ON\" if light == 1 else \"OFF\"))\n",
    "    \n",
    "        print('The prior probability of sleep:    {:.2f}%'.format(100 * prior_probability))\n",
    "        print('The updated probability of sleep:  {:.2f}%'.format(100 * conditional_probability))\n",
    "    \n",
    "    return conditional_probability"
   ]
  },
  {
   "cell_type": "code",
   "execution_count": null,
   "metadata": {},
   "outputs": [],
   "source": [
    "result = update_probability(time_offset = 30, light = 1)"
   ]
  },
  {
   "cell_type": "code",
   "execution_count": null,
   "metadata": {},
   "outputs": [],
   "source": [
    "result = update_probability(time_offset = 30, light = 0)"
   ]
  },
  {
   "cell_type": "code",
   "execution_count": null,
   "metadata": {},
   "outputs": [],
   "source": [
    "result = update_probability(time_offset = -30, light = 1)"
   ]
  },
  {
   "cell_type": "code",
   "execution_count": null,
   "metadata": {},
   "outputs": [],
   "source": [
    "result = update_probability(time_offset = -30, light = 0)"
   ]
  },
  {
   "cell_type": "markdown",
   "metadata": {},
   "source": [
    "## Updating All Priors Independenantly "
   ]
  },
  {
   "cell_type": "code",
   "execution_count": null,
   "metadata": {},
   "outputs": [],
   "source": [
    "light_on_prob = update_probability(time_est, light = 1)\n",
    "light_off_prob = update_probability(time_est, light = 0)"
   ]
  },
  {
   "cell_type": "code",
   "execution_count": null,
   "metadata": {},
   "outputs": [],
   "source": [
    "plt.plot(time_est, sleep_est, color = 'black', \n",
    "         lw=3, linestyle = '--', label=\"Prior Probability\")\n",
    "plt.plot(time_est, light_on_prob, color = 'darkred',\n",
    "          lw = 1, label = 'Light On Probability')\n",
    "plt.plot(time_est, light_off_prob, color = 'darkgreen',\n",
    "           lw = 1, label = 'Light Off Probability')\n",
    "plt.scatter(time, sleep_obs, edgecolor = 'slateblue',\n",
    "            s=20, alpha=0.1, label='Observations')\n",
    "plt.title('Updated Probability Distribution for Sleep');\n",
    "plt.legend(loc=2)\n",
    "plt.ylabel('Probability')\n",
    "plt.xlabel('PM Time');\n",
    "plt.xticks([-60, -30, 0, 30, 60, 90, 120], sleep_labels);\n"
   ]
  },
  {
   "cell_type": "code",
   "execution_count": null,
   "metadata": {},
   "outputs": [],
   "source": []
  }
 ],
 "metadata": {
  "kernelspec": {
   "display_name": "Python 3",
   "language": "python",
   "name": "python3"
  },
  "language_info": {
   "codemirror_mode": {
    "name": "ipython",
    "version": 3
   },
   "file_extension": ".py",
   "mimetype": "text/x-python",
   "name": "python",
   "nbconvert_exporter": "python",
   "pygments_lexer": "ipython3",
   "version": "3.9.1"
  }
 },
 "nbformat": 4,
 "nbformat_minor": 4
}
