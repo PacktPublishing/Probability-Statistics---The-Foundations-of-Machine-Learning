{
 "cells": [
  {
   "cell_type": "markdown",
   "metadata": {},
   "source": [
    "# Dispersion "
   ]
  },
  {
   "cell_type": "code",
   "execution_count": null,
   "metadata": {},
   "outputs": [],
   "source": [
    "import matplotlib \n",
    "import matplotlib.pyplot as plt\n",
    "%matplotlib inline\n",
    "\n",
    "import numpy as np "
   ]
  },
  {
   "cell_type": "code",
   "execution_count": null,
   "metadata": {},
   "outputs": [],
   "source": [
    "import seaborn as sns\n",
    "sns.set(color_codes=True)\n",
    "sns.set_style(\"white\")     # See more styling options here: https://seaborn.pydata.org/tutorial/aesthetics.html"
   ]
  },
  {
   "cell_type": "code",
   "execution_count": null,
   "metadata": {},
   "outputs": [],
   "source": [
    "np.random.uniform(low=0.0, high=1.0)      "
   ]
  },
  {
   "cell_type": "code",
   "execution_count": null,
   "metadata": {},
   "outputs": [],
   "source": [
    "np.random.uniform(low=0.0, high=1.0, size = 10)\n",
    "# All values equally likely. Sort of like     [  0.0   0.2   0.4    0.6    0.8   1.0 ]"
   ]
  },
  {
   "cell_type": "markdown",
   "metadata": {},
   "source": [
    "## Generating a LOT of numbers "
   ]
  },
  {
   "cell_type": "code",
   "execution_count": null,
   "metadata": {},
   "outputs": [],
   "source": [
    "num_samples = 10000   # get rid of 'magic numbers'"
   ]
  },
  {
   "cell_type": "code",
   "execution_count": null,
   "metadata": {},
   "outputs": [],
   "source": [
    "uniform_vals = np.random.uniform(low=0.0, high=10.0, size = num_samples)    "
   ]
  },
  {
   "cell_type": "code",
   "execution_count": null,
   "metadata": {},
   "outputs": [],
   "source": [
    "sns.distplot(uniform_vals, bins=20, kde=False)\n",
    "plt.ylabel('Frequency')\n",
    "plt.xlabel('Value');\n",
    "plt.title(\"Unform Values\")\n",
    "sns.despine(offset=10, trim=True);  # move axes away \n",
    "plt.show()"
   ]
  },
  {
   "cell_type": "code",
   "execution_count": null,
   "metadata": {},
   "outputs": [],
   "source": [
    "normal_vals = np.random.normal(loc=5.0, scale=10.0, size = num_samples)     \n",
    "# More values closer to `loc`    ... Sorf of like [ 1 5 5 5 5 7 ]"
   ]
  },
  {
   "cell_type": "code",
   "execution_count": null,
   "metadata": {},
   "outputs": [],
   "source": [
    "sns.distplot(normal_vals, bins=20, kde=False)\n",
    "plt.ylabel('Frequency')\n",
    "plt.xlabel('Value');\n",
    "plt.title(\"Normal Values\")\n",
    "sns.despine(offset=10, trim=True);  # move axes away \n",
    "plt.show()"
   ]
  },
  {
   "cell_type": "code",
   "execution_count": null,
   "metadata": {},
   "outputs": [],
   "source": [
    "print(\"Uniform vals mean:\", np.mean(uniform_vals))\n",
    "print(\"Normal vals mean: \", np.mean(normal_vals))"
   ]
  },
  {
   "cell_type": "code",
   "execution_count": null,
   "metadata": {},
   "outputs": [],
   "source": [
    "print(\"Uniform vals variance:\", np.var(uniform_vals))\n",
    "print(\"Normal vals variance: \", np.var(normal_vals))"
   ]
  },
  {
   "cell_type": "code",
   "execution_count": null,
   "metadata": {},
   "outputs": [],
   "source": [
    "print(\"Uniform vals sd:\", np.std(uniform_vals))\n",
    "print(\"Normal vals sd: \", np.std(normal_vals))"
   ]
  },
  {
   "cell_type": "code",
   "execution_count": null,
   "metadata": {},
   "outputs": [],
   "source": [
    "normal_vals = np.random.normal(loc=5.0, scale=10.0, size = num_samples)\n",
    "\n",
    "nv_mean = np.mean(normal_vals)\n",
    "nv_sd = np.std(normal_vals)"
   ]
  },
  {
   "cell_type": "code",
   "execution_count": null,
   "metadata": {},
   "outputs": [],
   "source": [
    "sns.distplot(normal_vals, bins=20, kde=False)\n",
    "# plt.xlim(-60, 60)\n",
    "\n",
    "plt.ylabel('Frequency')\n",
    "plt.xlabel('Value');\n",
    "plt.title(\"Normal Values\")\n",
    "sns.despine(offset=10, trim=True);  # move axes away \n",
    "\n",
    "# plot the SD line \n",
    "x_c, y_c = ([nv_mean, nv_mean], [0, 1500])\n",
    "plt.plot(x_c, y_c, color='green', linewidth=2)\n",
    "\n",
    "x_c, y_c = ([nv_mean + nv_sd, nv_mean + nv_sd], [0, 1500])\n",
    "plt.plot(x_c, y_c, color='red', linewidth=2)\n",
    "\n",
    "\n",
    "x_c, y_c = ([nv_mean - nv_sd, nv_mean - nv_sd], [0, 1500])\n",
    "plt.plot(x_c, y_c, color='red', linewidth=2)\n",
    "\n",
    "plt.show()"
   ]
  },
  {
   "cell_type": "code",
   "execution_count": null,
   "metadata": {},
   "outputs": [],
   "source": [
    "normal_vals_2 = np.random.normal(loc=5.0, scale=15.0, size = num_samples)\n",
    "nv_mean_2 = np.mean(normal_vals_2)\n",
    "nv_sd_2 = np.std(normal_vals_2)"
   ]
  },
  {
   "cell_type": "code",
   "execution_count": null,
   "metadata": {},
   "outputs": [],
   "source": [
    "sns.distplot(normal_vals_2, bins=20, kde=False)\n",
    "# plt.xlim(-60, 60)\n",
    "\n",
    "plt.ylabel('Frequency')\n",
    "plt.xlabel('Value');\n",
    "plt.title(\"Normal Values\")\n",
    "sns.despine(offset=10, trim=True);  # move axes away \n",
    "\n",
    "# plot the SD line \n",
    "x_c, y_c = ([nv_mean_2, nv_mean_2], [0, 1500])\n",
    "plt.plot(x_c, y_c, color='green', linewidth=2)\n",
    "\n",
    "x_c, y_c = ([nv_mean_2 + nv_sd_2, nv_mean_2 + nv_sd_2], [0, 1500])\n",
    "plt.plot(x_c, y_c, color='red', linewidth=2)\n",
    "\n",
    "\n",
    "x_c, y_c = ([nv_mean_2 - nv_sd_2, nv_mean_2 - nv_sd_2], [0, 1500])\n",
    "plt.plot(x_c, y_c, color='red', linewidth=2)\n",
    "\n",
    "plt.show()"
   ]
  },
  {
   "cell_type": "code",
   "execution_count": null,
   "metadata": {},
   "outputs": [],
   "source": [
    "# Let's put both together\n",
    "normal_vals = np.random.normal(loc=5.0, scale=10.0, size = num_samples)\n",
    "normal_vals_2 = np.random.normal(loc=5.0, scale=15.0, size = num_samples)\n",
    "\n",
    "def plot_dist(vals, label): \n",
    "    nv_mean = np.mean(vals)\n",
    "    nv_sd = np.std(vals)\n",
    "    \n",
    "    sns.distplot(vals, bins=20, kde=False)\n",
    "    \n",
    "    plt.xlim(-60, 60)\n",
    "\n",
    "    plt.ylabel('Frequency')\n",
    "    plt.xlabel('Value');\n",
    "    plt.title(label)\n",
    "    sns.despine(offset=10, trim=True);  # move axes away \n",
    "\n",
    "    # plot the SD line \n",
    "    x_c, y_c = ([nv_mean, nv_mean], [0, 1500])\n",
    "    plt.plot(x_c, y_c, color='green', linewidth=1)\n",
    "\n",
    "    x_c, y_c = ([nv_mean + nv_sd, nv_mean + nv_sd], [0, 1500])\n",
    "    plt.plot(x_c, y_c, color='red', linewidth=1)\n",
    "\n",
    "\n",
    "    x_c, y_c = ([nv_mean - nv_sd, nv_mean - nv_sd], [0, 1500])\n",
    "    plt.plot(x_c, y_c, color='red', linewidth=1)\n",
    "\n",
    "    plt.show()\n",
    "\n",
    "\n",
    "    \n",
    "plot_dist(normal_vals, \"Less Variant\")\n",
    "plot_dist(normal_vals_2, \"More Variant\")\n"
   ]
  }
 ],
 "metadata": {
  "kernelspec": {
   "display_name": "Python 3",
   "language": "python",
   "name": "python3"
  },
  "language_info": {
   "codemirror_mode": {
    "name": "ipython",
    "version": 3
   },
   "file_extension": ".py",
   "mimetype": "text/x-python",
   "name": "python",
   "nbconvert_exporter": "python",
   "pygments_lexer": "ipython3",
   "version": "3.9.1"
  }
 },
 "nbformat": 4,
 "nbformat_minor": 4
}
